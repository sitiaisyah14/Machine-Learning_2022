{
  "nbformat": 4,
  "nbformat_minor": 0,
  "metadata": {
    "colab": {
      "provenance": [],
      "include_colab_link": true
    },
    "kernelspec": {
      "name": "python3",
      "display_name": "Python 3"
    },
    "language_info": {
      "name": "python"
    }
  },
  "cells": [
    {
      "cell_type": "markdown",
      "metadata": {
        "id": "view-in-github",
        "colab_type": "text"
      },
      "source": [
        "<a href=\"https://colab.research.google.com/github/sitiaisyah14/Machine-Learning_2022/blob/main/J2.ipynb\" target=\"_parent\"><img src=\"https://colab.research.google.com/assets/colab-badge.svg\" alt=\"Open In Colab\"/></a>"
      ]
    },
    {
      "cell_type": "code",
      "source": [
        "# KNN tanpa library Scikit-learn\n",
        "import numpy as np\n",
        "import matplotlib.pyplot as plt\n",
        "\n",
        "x_train = np.array([[26,8],\n",
        "                    [26,11],\n",
        "                    [29,8],\n",
        "                    [34,10],\n",
        "                    [36,11],\n",
        "                    [33,8],\n",
        "                    [30,9],\n",
        "                    [27,10],\n",
        "                    [27,11],\n",
        "                    [26,11],\n",
        "                    [31,13],\n",
        "                    [34,8]])\n",
        "\n",
        "y_train = ['Go out','Go out','Go out','Stay at home','Stay at home','Go out', 'Go out','Go out','Go out','Go out', 'Stay at home', 'Go out']"
      ],
      "metadata": {
        "id": "dmtOF3dKWDRQ"
      },
      "execution_count": null,
      "outputs": []
    },
    {
      "cell_type": "code",
      "execution_count": null,
      "metadata": {
        "colab": {
          "base_uri": "https://localhost:8080/",
          "height": 105
        },
        "id": "pLgRA8BTw8jr",
        "outputId": "eef27ec6-74e5-463d-c6c5-b1ba28ef1508"
      },
      "outputs": [
        {
          "output_type": "stream",
          "name": "stdout",
          "text": [
            "[4.47213595 4.12310563 2.23606798 4.         6.08276253 3.60555128\n",
            " 1.         3.         3.16227766 4.12310563 3.16227766 4.47213595]\n",
            "[6 2 7]\n",
            "['Go out' 'Go out' 'Go out']\n"
          ]
        },
        {
          "output_type": "execute_result",
          "data": {
            "text/plain": [
              "'Go out'"
            ],
            "application/vnd.google.colaboratory.intrinsic+json": {
              "type": "string"
            }
          },
          "metadata": {},
          "execution_count": 2
        }
      ],
      "source": [
        "x_test = np.array([[30,10]])\n",
        "\n",
        "# calculate euclidean distance\n",
        "# temperatur=30, uv index=10\n",
        "dis = np.sqrt(np.sum((x_train-x_test)**2, axis=1))\n",
        "print(dis)\n",
        "\n",
        "# nilai k = 3\n",
        "nn_sort=dis.argsort()[:3]\n",
        "print(nn_sort)\n",
        "nn_decision = np.take(y_train,nn_sort)\n",
        "print(nn_decision)\n",
        "\n",
        "from collections import Counter\n",
        "b = Counter(np.take(y_train,dis.argsort()[:3]))\n",
        "b.most_common(1)[0][0]\n"
      ]
    },
    {
      "cell_type": "code",
      "source": [
        "x_test = np.array([[28,13]])\n",
        "\n",
        "# calculate euclidean distance\n",
        "# temperatur=28, uv index=13\n",
        "dis = np.sqrt(np.sum((x_train-x_test)**2, axis=1))\n",
        "print(dis)\n",
        "\n",
        "# nilai k = 3\n",
        "nn_sort=dis.argsort()[:3]\n",
        "print(nn_sort)\n",
        "nn_decision = np.take(y_train,nn_sort)\n",
        "print(nn_decision)\n",
        "\n",
        "from collections import Counter\n",
        "b = Counter(np.take(y_train,dis.argsort()[:3]))\n",
        "b.most_common(1)[0][0]\n"
      ],
      "metadata": {
        "colab": {
          "base_uri": "https://localhost:8080/",
          "height": 105
        },
        "id": "vdXzlFlYx611",
        "outputId": "744a3dc9-7431-4c65-edb0-f753d5794743"
      },
      "execution_count": null,
      "outputs": [
        {
          "output_type": "stream",
          "name": "stdout",
          "text": [
            "[5.38516481 2.82842712 5.09901951 6.70820393 8.24621125 7.07106781\n",
            " 4.47213595 3.16227766 2.23606798 2.82842712 3.         7.81024968]\n",
            "[8 1 9]\n",
            "['Go out' 'Go out' 'Go out']\n"
          ]
        },
        {
          "output_type": "execute_result",
          "data": {
            "text/plain": [
              "'Go out'"
            ],
            "application/vnd.google.colaboratory.intrinsic+json": {
              "type": "string"
            }
          },
          "metadata": {},
          "execution_count": 3
        }
      ]
    },
    {
      "cell_type": "code",
      "source": [
        "x_test = np.array([[29,9]])\n",
        "\n",
        "# calculate euclidean distance\n",
        "# temperatur=29, uv index=9\n",
        "dis = np.sqrt(np.sum((x_train-x_test)**2, axis=1))\n",
        "print(dis)\n",
        "\n",
        "# nilai k = 3\n",
        "nn_sort=dis.argsort()[:3]\n",
        "print(nn_sort)\n",
        "nn_decision = np.take(y_train,nn_sort)\n",
        "print(nn_decision)\n",
        "\n",
        "from collections import Counter\n",
        "b = Counter(np.take(y_train,dis.argsort()[:3]))\n",
        "b.most_common(1)[0][0]\n"
      ],
      "metadata": {
        "colab": {
          "base_uri": "https://localhost:8080/",
          "height": 105
        },
        "id": "YFMzcgGnyG_B",
        "outputId": "6381d939-cadf-4e02-813a-96e0dc684047"
      },
      "execution_count": null,
      "outputs": [
        {
          "output_type": "stream",
          "name": "stdout",
          "text": [
            "[3.16227766 3.60555128 1.         5.09901951 7.28010989 4.12310563\n",
            " 1.         2.23606798 2.82842712 3.60555128 4.47213595 5.09901951]\n",
            "[2 6 7]\n",
            "['Go out' 'Go out' 'Go out']\n"
          ]
        },
        {
          "output_type": "execute_result",
          "data": {
            "text/plain": [
              "'Go out'"
            ],
            "application/vnd.google.colaboratory.intrinsic+json": {
              "type": "string"
            }
          },
          "metadata": {},
          "execution_count": 4
        }
      ]
    },
    {
      "cell_type": "code",
      "source": [
        "x_test = np.array([[31,12]])\n",
        "\n",
        "# calculate euclidean distance\n",
        "# temperatur=31, uv index=12\n",
        "dis = np.sqrt(np.sum((x_train-x_test)**2, axis=1))\n",
        "print(dis)\n",
        "\n",
        "# nilai k = 3\n",
        "nn_sort=dis.argsort()[:3]\n",
        "print(nn_sort)\n",
        "nn_decision = np.take(y_train,nn_sort)\n",
        "print(nn_decision)\n",
        "\n",
        "from collections import Counter\n",
        "b = Counter(np.take(y_train,dis.argsort()[:3]))\n",
        "b.most_common(1)[0][0]\n"
      ],
      "metadata": {
        "colab": {
          "base_uri": "https://localhost:8080/",
          "height": 105
        },
        "id": "YSOuIRhyyNxU",
        "outputId": "cd3cefb1-78aa-4d40-e3b0-bb638a84cc42"
      },
      "execution_count": null,
      "outputs": [
        {
          "output_type": "stream",
          "name": "stdout",
          "text": [
            "[6.40312424 5.09901951 4.47213595 3.60555128 5.09901951 4.47213595\n",
            " 3.16227766 4.47213595 4.12310563 5.09901951 1.         5.        ]\n",
            "[10  6  3]\n",
            "['Stay at home' 'Go out' 'Stay at home']\n"
          ]
        },
        {
          "output_type": "execute_result",
          "data": {
            "text/plain": [
              "'Stay at home'"
            ],
            "application/vnd.google.colaboratory.intrinsic+json": {
              "type": "string"
            }
          },
          "metadata": {},
          "execution_count": 5
        }
      ]
    },
    {
      "cell_type": "code",
      "source": [
        "x_test = np.array([[27,8]])\n",
        "\n",
        "# calculate euclidean distance\n",
        "# temperatur=27, uv index=8\n",
        "dis = np.sqrt(np.sum((x_train-x_test)**2, axis=1))\n",
        "print(dis)\n",
        "\n",
        "# nilai k = 3\n",
        "nn_sort=dis.argsort()[:3]\n",
        "print(nn_sort)\n",
        "nn_decision = np.take(y_train,nn_sort)\n",
        "print(nn_decision)\n",
        "\n",
        "from collections import Counter\n",
        "b = Counter(np.take(y_train,dis.argsort()[:3]))\n",
        "b.most_common(1)[0][0]\n"
      ],
      "metadata": {
        "colab": {
          "base_uri": "https://localhost:8080/",
          "height": 105
        },
        "id": "mQQfdH67yfUG",
        "outputId": "f22fec08-1f94-4565-dafe-59ce583d6cf1"
      },
      "execution_count": null,
      "outputs": [
        {
          "output_type": "stream",
          "name": "stdout",
          "text": [
            "[1.         3.16227766 2.         7.28010989 9.48683298 6.\n",
            " 3.16227766 2.         3.         3.16227766 6.40312424 7.        ]\n",
            "[0 2 7]\n",
            "['Go out' 'Go out' 'Go out']\n"
          ]
        },
        {
          "output_type": "execute_result",
          "data": {
            "text/plain": [
              "'Go out'"
            ],
            "application/vnd.google.colaboratory.intrinsic+json": {
              "type": "string"
            }
          },
          "metadata": {},
          "execution_count": 6
        }
      ]
    },
    {
      "cell_type": "code",
      "source": [
        "# KNN menggunakan library Scikit-learn\n",
        "from sklearn.preprocessing import LabelBinarizer\n",
        "from sklearn.neighbors import KNeighborsClassifier\n",
        "\n",
        "lb=LabelBinarizer()\n",
        "y_trainbin = lb.fit_transform(y_train)\n",
        "print(y_trainbin)\n",
        "\n",
        "k=3\n",
        "\n",
        "# temperatur=30, uv index=10\n",
        "x_test = np.array([[30,10]])\n",
        "\n",
        "clf=KNeighborsClassifier(n_neighbors=k)\n",
        "clf.fit(x_train,y_trainbin.reshape(-1))\n",
        "pred_bin = clf.predict(np.array([x_test]).reshape(1,-1))[0]\n",
        "pred_label = lb.inverse_transform(pred_bin)\n",
        "print(pred_label)"
      ],
      "metadata": {
        "colab": {
          "base_uri": "https://localhost:8080/"
        },
        "id": "blztktHfyofv",
        "outputId": "d7150121-1021-4650-def3-3095a6584088"
      },
      "execution_count": null,
      "outputs": [
        {
          "output_type": "stream",
          "name": "stdout",
          "text": [
            "[[0]\n",
            " [0]\n",
            " [0]\n",
            " [1]\n",
            " [1]\n",
            " [0]\n",
            " [0]\n",
            " [0]\n",
            " [0]\n",
            " [0]\n",
            " [1]\n",
            " [0]]\n",
            "['Go out']\n"
          ]
        }
      ]
    },
    {
      "cell_type": "code",
      "source": [
        "lb=LabelBinarizer()\n",
        "y_trainbin = lb.fit_transform(y_train)\n",
        "print(y_trainbin)\n",
        "\n",
        "k=3\n",
        "\n",
        "# temperatur=28, uv index=13\n",
        "x_test = np.array([[28,13]])\n",
        "\n",
        "clf=KNeighborsClassifier(n_neighbors=k)\n",
        "clf.fit(x_train,y_trainbin.reshape(-1))\n",
        "pred_bin = clf.predict(np.array([x_test]).reshape(1,-1))[0]\n",
        "pred_label = lb.inverse_transform(pred_bin)\n",
        "print(pred_label)"
      ],
      "metadata": {
        "colab": {
          "base_uri": "https://localhost:8080/"
        },
        "id": "cY_TeIqT1t3t",
        "outputId": "b91dabbc-94f8-4cbc-aa45-aebdce28f5f6"
      },
      "execution_count": null,
      "outputs": [
        {
          "output_type": "stream",
          "name": "stdout",
          "text": [
            "[[0]\n",
            " [0]\n",
            " [0]\n",
            " [1]\n",
            " [1]\n",
            " [0]\n",
            " [0]\n",
            " [0]\n",
            " [0]\n",
            " [0]\n",
            " [1]\n",
            " [0]]\n",
            "['Go out']\n"
          ]
        }
      ]
    },
    {
      "cell_type": "code",
      "source": [
        "lb=LabelBinarizer()\n",
        "y_trainbin = lb.fit_transform(y_train)\n",
        "print(y_trainbin)\n",
        "\n",
        "k=3\n",
        "\n",
        "# temperatur=29, uv index=9\n",
        "x_test = np.array([[29,9]])\n",
        "\n",
        "clf=KNeighborsClassifier(n_neighbors=k)\n",
        "clf.fit(x_train,y_trainbin.reshape(-1))\n",
        "pred_bin = clf.predict(np.array([x_test]).reshape(1,-1))[0]\n",
        "pred_label = lb.inverse_transform(pred_bin)\n",
        "print(pred_label)"
      ],
      "metadata": {
        "colab": {
          "base_uri": "https://localhost:8080/"
        },
        "id": "ai9qT5Kj2YMu",
        "outputId": "d4fed3ce-f6aa-4ee3-b716-b35f574ba0fc"
      },
      "execution_count": null,
      "outputs": [
        {
          "output_type": "stream",
          "name": "stdout",
          "text": [
            "[[0]\n",
            " [0]\n",
            " [0]\n",
            " [1]\n",
            " [1]\n",
            " [0]\n",
            " [0]\n",
            " [0]\n",
            " [0]\n",
            " [0]\n",
            " [1]\n",
            " [0]]\n",
            "['Go out']\n"
          ]
        }
      ]
    },
    {
      "cell_type": "code",
      "source": [
        "lb=LabelBinarizer()\n",
        "y_trainbin = lb.fit_transform(y_train)\n",
        "print(y_trainbin)\n",
        "\n",
        "k=3\n",
        "\n",
        "# temperatur=31, uv index=12\n",
        "x_test = np.array([[31,12]])\n",
        "\n",
        "clf=KNeighborsClassifier(n_neighbors=k)\n",
        "clf.fit(x_train,y_trainbin.reshape(-1))\n",
        "pred_bin = clf.predict(np.array([x_test]).reshape(1,-1))[0]\n",
        "pred_label = lb.inverse_transform(pred_bin)\n",
        "print(pred_label)"
      ],
      "metadata": {
        "colab": {
          "base_uri": "https://localhost:8080/"
        },
        "id": "97WUVQuo21FS",
        "outputId": "652ca7f2-620b-4fd9-d6c3-50ed30437fd2"
      },
      "execution_count": null,
      "outputs": [
        {
          "output_type": "stream",
          "name": "stdout",
          "text": [
            "[[0]\n",
            " [0]\n",
            " [0]\n",
            " [1]\n",
            " [1]\n",
            " [0]\n",
            " [0]\n",
            " [0]\n",
            " [0]\n",
            " [0]\n",
            " [1]\n",
            " [0]]\n",
            "['Stay at home']\n"
          ]
        }
      ]
    },
    {
      "cell_type": "code",
      "source": [
        "lb=LabelBinarizer()\n",
        "y_trainbin = lb.fit_transform(y_train)\n",
        "print(y_trainbin)\n",
        "\n",
        "k=3\n",
        "\n",
        "# temperatur=27, uv index=8\n",
        "x_test = np.array([[27,8]])\n",
        "\n",
        "clf=KNeighborsClassifier(n_neighbors=k)\n",
        "clf.fit(x_train,y_trainbin.reshape(-1))\n",
        "pred_bin = clf.predict(np.array([x_test]).reshape(1,-1))[0]\n",
        "pred_label = lb.inverse_transform(pred_bin)\n",
        "print(pred_label)"
      ],
      "metadata": {
        "colab": {
          "base_uri": "https://localhost:8080/"
        },
        "id": "Vpb-rP3W3NtB",
        "outputId": "b75e8ffb-36eb-4990-d1f3-db01a2b74f29"
      },
      "execution_count": null,
      "outputs": [
        {
          "output_type": "stream",
          "name": "stdout",
          "text": [
            "[[0]\n",
            " [0]\n",
            " [0]\n",
            " [1]\n",
            " [1]\n",
            " [0]\n",
            " [0]\n",
            " [0]\n",
            " [0]\n",
            " [0]\n",
            " [1]\n",
            " [0]]\n",
            "['Go out']\n"
          ]
        }
      ]
    },
    {
      "cell_type": "code",
      "source": [
        "# evaluasi model\n",
        "\n",
        "x_test = np.array([[30,10],\n",
        "                  [28,13],\n",
        "                  [29,9],\n",
        "                  [31,12],\n",
        "                  [27,8]\n",
        "                  ])\n",
        "y_test = ['Stay at home','Go out', 'Go out', 'Stay at home', 'Go out']\n",
        "\n",
        "# Prediksi Sistem\n",
        "lb=LabelBinarizer()\n",
        "y_testbin = lb.fit_transform(y_test)\n",
        "print('label biner:%s' %y_testbin.T[0])\n",
        "\n",
        "k=3\n",
        "clf=KNeighborsClassifier(n_neighbors=k)\n",
        "clf.fit(x_train,y_trainbin.reshape(-1))\n",
        "pred_bin = clf.predict(x_test)\n",
        "pred_label = lb.inverse_transform(pred_bin)\n",
        "print(pred_label)\n",
        "\n"
      ],
      "metadata": {
        "colab": {
          "base_uri": "https://localhost:8080/"
        },
        "id": "qLlV_SJuq_cI",
        "outputId": "2929bf54-0752-4d3e-9f4d-ce07b48f8afc"
      },
      "execution_count": null,
      "outputs": [
        {
          "output_type": "stream",
          "name": "stdout",
          "text": [
            "label biner:[1 0 0 1 0]\n",
            "['Go out' 'Go out' 'Go out' 'Stay at home' 'Go out']\n"
          ]
        }
      ]
    },
    {
      "cell_type": "code",
      "source": [
        "# # Akurasi\n",
        "from sklearn.metrics import accuracy_score\n",
        "print('akurasi : %s' % accuracy_score(y_testbin,pred_bin))"
      ],
      "metadata": {
        "colab": {
          "base_uri": "https://localhost:8080/"
        },
        "id": "7Pdi_LNzuTqF",
        "outputId": "4afc2e57-c121-4c67-f9df-7eefe6abf1e0"
      },
      "execution_count": null,
      "outputs": [
        {
          "output_type": "stream",
          "name": "stdout",
          "text": [
            "akurasi : 0.8\n"
          ]
        }
      ]
    },
    {
      "cell_type": "code",
      "source": [
        "# Presisi\n",
        "from sklearn.metrics import precision_score\n",
        "print('presisi: %s' % precision_score(y_testbin,pred_bin))"
      ],
      "metadata": {
        "colab": {
          "base_uri": "https://localhost:8080/"
        },
        "id": "PF6a_fSovrgb",
        "outputId": "27ddf273-1b6d-4d84-a71c-1f1e8f835fc8"
      },
      "execution_count": null,
      "outputs": [
        {
          "output_type": "stream",
          "name": "stdout",
          "text": [
            "presisi: 1.0\n"
          ]
        }
      ]
    },
    {
      "cell_type": "code",
      "source": [
        "# Recall\n",
        "from sklearn.metrics import recall_score\n",
        "print('recall: %s' % recall_score(y_testbin,pred_bin))"
      ],
      "metadata": {
        "colab": {
          "base_uri": "https://localhost:8080/"
        },
        "id": "Q5tbiazfvx5h",
        "outputId": "83fb9f39-1610-43df-af2a-6607c1b6358b"
      },
      "execution_count": null,
      "outputs": [
        {
          "output_type": "stream",
          "name": "stdout",
          "text": [
            "recall: 0.5\n"
          ]
        }
      ]
    },
    {
      "cell_type": "code",
      "source": [
        "# Regresi menggunakan algoritma KNN\n",
        "\n",
        "import matplotlib.pyplot as plt\n",
        "\n",
        "x_train = np.array([[26,1],\n",
        "                    [26,1],\n",
        "                    [29,1],\n",
        "                    [34,0],\n",
        "                    [36,0],\n",
        "                    [33,1],\n",
        "                    [30,1],\n",
        "                    [27,1],\n",
        "                    [27,1],\n",
        "                    [26,1],\n",
        "                    [31,0],\n",
        "                    [34,1]])\n",
        "\n",
        "y_train = [8,11,8,10,11,8,9,10,11,11,13,8]\n",
        "\n",
        "x_test = np.array([[30,0],\n",
        "                  [28,1],\n",
        "                  [29,1],\n",
        "                  [31,0],\n",
        "                  [27,1]\n",
        "                  ])\n",
        "y_test = [10,13,9,12,8]\n",
        "\n",
        "from sklearn.neighbors import KNeighborsRegressor\n",
        "from sklearn.metrics import mean_absolute_error, mean_squared_error\n",
        "\n",
        "clf = KNeighborsRegressor(n_neighbors=k)\n",
        "clf.fit(x_train,y_train)\n",
        "predictions = clf.predict(x_test)\n",
        "print('pediksi : %s' %predictions)\n",
        "print('MAE : %s' % mean_absolute_error(y_test,predictions))\n",
        "print('MSE : %s' % mean_squared_error(y_test,predictions))\n"
      ],
      "metadata": {
        "colab": {
          "base_uri": "https://localhost:8080/"
        },
        "id": "OEYB1p2Av17D",
        "outputId": "cabc0491-073c-4f88-bf11-ce9d4a9b989d"
      },
      "execution_count": null,
      "outputs": [
        {
          "output_type": "stream",
          "name": "stdout",
          "text": [
            "pediksi : [10.          9.66666667  9.         10.         10.66666667]\n",
            "MAE : 1.6\n",
            "MSE : 4.444444444444445\n"
          ]
        }
      ]
    }
  ]
}