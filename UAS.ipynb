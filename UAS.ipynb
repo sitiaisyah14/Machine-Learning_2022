{
  "nbformat": 4,
  "nbformat_minor": 0,
  "metadata": {
    "colab": {
      "provenance": [],
      "toc_visible": true,
      "authorship_tag": "ABX9TyNI/pl9GR2WPTmeyU/0H/dP",
      "include_colab_link": true
    },
    "kernelspec": {
      "name": "python3",
      "display_name": "Python 3"
    },
    "language_info": {
      "name": "python"
    }
  },
  "cells": [
    {
      "cell_type": "markdown",
      "metadata": {
        "id": "view-in-github",
        "colab_type": "text"
      },
      "source": [
        "<a href=\"https://colab.research.google.com/github/sitiaisyah14/Machine-Learning_2022/blob/main/UAS.ipynb\" target=\"_parent\"><img src=\"https://colab.research.google.com/assets/colab-badge.svg\" alt=\"Open In Colab\"/></a>"
      ]
    },
    {
      "cell_type": "markdown",
      "source": [
        "# **KELOMPOK**\n",
        "\n",
        "1. Deatrisya Mirela Harahap | 2041720013\n",
        "2. Siti Aisyah | 2041720061 "
      ],
      "metadata": {
        "id": "Dfl0ODq1xPdT"
      }
    },
    {
      "cell_type": "markdown",
      "source": [
        "# **Penyelesaian UAS**\n",
        "1. Preprocessing Data\n",
        "2. Clustering\n",
        "3. Labeling\n",
        "4. Classification \n",
        "5. Prediction\n",
        "6. Evaluasi."
      ],
      "metadata": {
        "id": "21m1T7AlxedF"
      }
    },
    {
      "cell_type": "code",
      "source": [
        "#Perintah untuk melakukan import file dengan library google.colab dari directory komputer\n",
        "\n",
        "from google.colab import files\n",
        "uploaded = files.upload()"
      ],
      "metadata": {
        "id": "c5_ijUO5ylVZ",
        "colab": {
          "base_uri": "https://localhost:8080/",
          "height": 73
        },
        "outputId": "e4189f95-e8ad-456f-f74b-8777f75b6401"
      },
      "execution_count": null,
      "outputs": [
        {
          "output_type": "display_data",
          "data": {
            "text/plain": [
              "<IPython.core.display.HTML object>"
            ],
            "text/html": [
              "\n",
              "     <input type=\"file\" id=\"files-89a4473f-aecf-40bd-b974-e1b699311412\" name=\"files[]\" multiple disabled\n",
              "        style=\"border:none\" />\n",
              "     <output id=\"result-89a4473f-aecf-40bd-b974-e1b699311412\">\n",
              "      Upload widget is only available when the cell has been executed in the\n",
              "      current browser session. Please rerun this cell to enable.\n",
              "      </output>\n",
              "      <script>// Copyright 2017 Google LLC\n",
              "//\n",
              "// Licensed under the Apache License, Version 2.0 (the \"License\");\n",
              "// you may not use this file except in compliance with the License.\n",
              "// You may obtain a copy of the License at\n",
              "//\n",
              "//      http://www.apache.org/licenses/LICENSE-2.0\n",
              "//\n",
              "// Unless required by applicable law or agreed to in writing, software\n",
              "// distributed under the License is distributed on an \"AS IS\" BASIS,\n",
              "// WITHOUT WARRANTIES OR CONDITIONS OF ANY KIND, either express or implied.\n",
              "// See the License for the specific language governing permissions and\n",
              "// limitations under the License.\n",
              "\n",
              "/**\n",
              " * @fileoverview Helpers for google.colab Python module.\n",
              " */\n",
              "(function(scope) {\n",
              "function span(text, styleAttributes = {}) {\n",
              "  const element = document.createElement('span');\n",
              "  element.textContent = text;\n",
              "  for (const key of Object.keys(styleAttributes)) {\n",
              "    element.style[key] = styleAttributes[key];\n",
              "  }\n",
              "  return element;\n",
              "}\n",
              "\n",
              "// Max number of bytes which will be uploaded at a time.\n",
              "const MAX_PAYLOAD_SIZE = 100 * 1024;\n",
              "\n",
              "function _uploadFiles(inputId, outputId) {\n",
              "  const steps = uploadFilesStep(inputId, outputId);\n",
              "  const outputElement = document.getElementById(outputId);\n",
              "  // Cache steps on the outputElement to make it available for the next call\n",
              "  // to uploadFilesContinue from Python.\n",
              "  outputElement.steps = steps;\n",
              "\n",
              "  return _uploadFilesContinue(outputId);\n",
              "}\n",
              "\n",
              "// This is roughly an async generator (not supported in the browser yet),\n",
              "// where there are multiple asynchronous steps and the Python side is going\n",
              "// to poll for completion of each step.\n",
              "// This uses a Promise to block the python side on completion of each step,\n",
              "// then passes the result of the previous step as the input to the next step.\n",
              "function _uploadFilesContinue(outputId) {\n",
              "  const outputElement = document.getElementById(outputId);\n",
              "  const steps = outputElement.steps;\n",
              "\n",
              "  const next = steps.next(outputElement.lastPromiseValue);\n",
              "  return Promise.resolve(next.value.promise).then((value) => {\n",
              "    // Cache the last promise value to make it available to the next\n",
              "    // step of the generator.\n",
              "    outputElement.lastPromiseValue = value;\n",
              "    return next.value.response;\n",
              "  });\n",
              "}\n",
              "\n",
              "/**\n",
              " * Generator function which is called between each async step of the upload\n",
              " * process.\n",
              " * @param {string} inputId Element ID of the input file picker element.\n",
              " * @param {string} outputId Element ID of the output display.\n",
              " * @return {!Iterable<!Object>} Iterable of next steps.\n",
              " */\n",
              "function* uploadFilesStep(inputId, outputId) {\n",
              "  const inputElement = document.getElementById(inputId);\n",
              "  inputElement.disabled = false;\n",
              "\n",
              "  const outputElement = document.getElementById(outputId);\n",
              "  outputElement.innerHTML = '';\n",
              "\n",
              "  const pickedPromise = new Promise((resolve) => {\n",
              "    inputElement.addEventListener('change', (e) => {\n",
              "      resolve(e.target.files);\n",
              "    });\n",
              "  });\n",
              "\n",
              "  const cancel = document.createElement('button');\n",
              "  inputElement.parentElement.appendChild(cancel);\n",
              "  cancel.textContent = 'Cancel upload';\n",
              "  const cancelPromise = new Promise((resolve) => {\n",
              "    cancel.onclick = () => {\n",
              "      resolve(null);\n",
              "    };\n",
              "  });\n",
              "\n",
              "  // Wait for the user to pick the files.\n",
              "  const files = yield {\n",
              "    promise: Promise.race([pickedPromise, cancelPromise]),\n",
              "    response: {\n",
              "      action: 'starting',\n",
              "    }\n",
              "  };\n",
              "\n",
              "  cancel.remove();\n",
              "\n",
              "  // Disable the input element since further picks are not allowed.\n",
              "  inputElement.disabled = true;\n",
              "\n",
              "  if (!files) {\n",
              "    return {\n",
              "      response: {\n",
              "        action: 'complete',\n",
              "      }\n",
              "    };\n",
              "  }\n",
              "\n",
              "  for (const file of files) {\n",
              "    const li = document.createElement('li');\n",
              "    li.append(span(file.name, {fontWeight: 'bold'}));\n",
              "    li.append(span(\n",
              "        `(${file.type || 'n/a'}) - ${file.size} bytes, ` +\n",
              "        `last modified: ${\n",
              "            file.lastModifiedDate ? file.lastModifiedDate.toLocaleDateString() :\n",
              "                                    'n/a'} - `));\n",
              "    const percent = span('0% done');\n",
              "    li.appendChild(percent);\n",
              "\n",
              "    outputElement.appendChild(li);\n",
              "\n",
              "    const fileDataPromise = new Promise((resolve) => {\n",
              "      const reader = new FileReader();\n",
              "      reader.onload = (e) => {\n",
              "        resolve(e.target.result);\n",
              "      };\n",
              "      reader.readAsArrayBuffer(file);\n",
              "    });\n",
              "    // Wait for the data to be ready.\n",
              "    let fileData = yield {\n",
              "      promise: fileDataPromise,\n",
              "      response: {\n",
              "        action: 'continue',\n",
              "      }\n",
              "    };\n",
              "\n",
              "    // Use a chunked sending to avoid message size limits. See b/62115660.\n",
              "    let position = 0;\n",
              "    do {\n",
              "      const length = Math.min(fileData.byteLength - position, MAX_PAYLOAD_SIZE);\n",
              "      const chunk = new Uint8Array(fileData, position, length);\n",
              "      position += length;\n",
              "\n",
              "      const base64 = btoa(String.fromCharCode.apply(null, chunk));\n",
              "      yield {\n",
              "        response: {\n",
              "          action: 'append',\n",
              "          file: file.name,\n",
              "          data: base64,\n",
              "        },\n",
              "      };\n",
              "\n",
              "      let percentDone = fileData.byteLength === 0 ?\n",
              "          100 :\n",
              "          Math.round((position / fileData.byteLength) * 100);\n",
              "      percent.textContent = `${percentDone}% done`;\n",
              "\n",
              "    } while (position < fileData.byteLength);\n",
              "  }\n",
              "\n",
              "  // All done.\n",
              "  yield {\n",
              "    response: {\n",
              "      action: 'complete',\n",
              "    }\n",
              "  };\n",
              "}\n",
              "\n",
              "scope.google = scope.google || {};\n",
              "scope.google.colab = scope.google.colab || {};\n",
              "scope.google.colab._files = {\n",
              "  _uploadFiles,\n",
              "  _uploadFilesContinue,\n",
              "};\n",
              "})(self);\n",
              "</script> "
            ]
          },
          "metadata": {}
        },
        {
          "output_type": "stream",
          "name": "stdout",
          "text": [
            "Saving tweet_emotions.csv to tweet_emotions.csv\n"
          ]
        }
      ]
    },
    {
      "cell_type": "code",
      "source": [
        "#Memanggil dan menampilkan hasil file yang telah diimport dan membaca dataset\n",
        "\n",
        "import numpy as np\n",
        "import pandas as pd\n",
        "\n",
        "data_tweet = pd.read_csv('tweet_emotions.csv')\n",
        "\n",
        "data_tweet.head(10)"
      ],
      "metadata": {
        "id": "6ZoX_f1Fyoei",
        "colab": {
          "base_uri": "https://localhost:8080/",
          "height": 363
        },
        "outputId": "e68d4fd3-5dff-4651-d7b0-1bf275af8bbf"
      },
      "execution_count": null,
      "outputs": [
        {
          "output_type": "execute_result",
          "data": {
            "text/plain": [
              "     tweet_id   sentiment                                            content\n",
              "0  1956967341       empty  @tiffanylue i know  i was listenin to bad habi...\n",
              "1  1956967666     sadness  Layin n bed with a headache  ughhhh...waitin o...\n",
              "2  1956967696     sadness                Funeral ceremony...gloomy friday...\n",
              "3  1956967789  enthusiasm               wants to hang out with friends SOON!\n",
              "4  1956968416     neutral  @dannycastillo We want to trade with someone w...\n",
              "5  1956968477       worry  Re-pinging @ghostridah14: why didn't you go to...\n",
              "6  1956968487     sadness  I should be sleep, but im not! thinking about ...\n",
              "7  1956968636       worry               Hmmm. http://www.djhero.com/ is down\n",
              "8  1956969035     sadness            @charviray Charlene my love. I miss you\n",
              "9  1956969172     sadness         @kelcouch I'm sorry  at least it's Friday?"
            ],
            "text/html": [
              "\n",
              "  <div id=\"df-cf4c104f-f15d-47fd-9136-f8f37fe2b864\">\n",
              "    <div class=\"colab-df-container\">\n",
              "      <div>\n",
              "<style scoped>\n",
              "    .dataframe tbody tr th:only-of-type {\n",
              "        vertical-align: middle;\n",
              "    }\n",
              "\n",
              "    .dataframe tbody tr th {\n",
              "        vertical-align: top;\n",
              "    }\n",
              "\n",
              "    .dataframe thead th {\n",
              "        text-align: right;\n",
              "    }\n",
              "</style>\n",
              "<table border=\"1\" class=\"dataframe\">\n",
              "  <thead>\n",
              "    <tr style=\"text-align: right;\">\n",
              "      <th></th>\n",
              "      <th>tweet_id</th>\n",
              "      <th>sentiment</th>\n",
              "      <th>content</th>\n",
              "    </tr>\n",
              "  </thead>\n",
              "  <tbody>\n",
              "    <tr>\n",
              "      <th>0</th>\n",
              "      <td>1956967341</td>\n",
              "      <td>empty</td>\n",
              "      <td>@tiffanylue i know  i was listenin to bad habi...</td>\n",
              "    </tr>\n",
              "    <tr>\n",
              "      <th>1</th>\n",
              "      <td>1956967666</td>\n",
              "      <td>sadness</td>\n",
              "      <td>Layin n bed with a headache  ughhhh...waitin o...</td>\n",
              "    </tr>\n",
              "    <tr>\n",
              "      <th>2</th>\n",
              "      <td>1956967696</td>\n",
              "      <td>sadness</td>\n",
              "      <td>Funeral ceremony...gloomy friday...</td>\n",
              "    </tr>\n",
              "    <tr>\n",
              "      <th>3</th>\n",
              "      <td>1956967789</td>\n",
              "      <td>enthusiasm</td>\n",
              "      <td>wants to hang out with friends SOON!</td>\n",
              "    </tr>\n",
              "    <tr>\n",
              "      <th>4</th>\n",
              "      <td>1956968416</td>\n",
              "      <td>neutral</td>\n",
              "      <td>@dannycastillo We want to trade with someone w...</td>\n",
              "    </tr>\n",
              "    <tr>\n",
              "      <th>5</th>\n",
              "      <td>1956968477</td>\n",
              "      <td>worry</td>\n",
              "      <td>Re-pinging @ghostridah14: why didn't you go to...</td>\n",
              "    </tr>\n",
              "    <tr>\n",
              "      <th>6</th>\n",
              "      <td>1956968487</td>\n",
              "      <td>sadness</td>\n",
              "      <td>I should be sleep, but im not! thinking about ...</td>\n",
              "    </tr>\n",
              "    <tr>\n",
              "      <th>7</th>\n",
              "      <td>1956968636</td>\n",
              "      <td>worry</td>\n",
              "      <td>Hmmm. http://www.djhero.com/ is down</td>\n",
              "    </tr>\n",
              "    <tr>\n",
              "      <th>8</th>\n",
              "      <td>1956969035</td>\n",
              "      <td>sadness</td>\n",
              "      <td>@charviray Charlene my love. I miss you</td>\n",
              "    </tr>\n",
              "    <tr>\n",
              "      <th>9</th>\n",
              "      <td>1956969172</td>\n",
              "      <td>sadness</td>\n",
              "      <td>@kelcouch I'm sorry  at least it's Friday?</td>\n",
              "    </tr>\n",
              "  </tbody>\n",
              "</table>\n",
              "</div>\n",
              "      <button class=\"colab-df-convert\" onclick=\"convertToInteractive('df-cf4c104f-f15d-47fd-9136-f8f37fe2b864')\"\n",
              "              title=\"Convert this dataframe to an interactive table.\"\n",
              "              style=\"display:none;\">\n",
              "        \n",
              "  <svg xmlns=\"http://www.w3.org/2000/svg\" height=\"24px\"viewBox=\"0 0 24 24\"\n",
              "       width=\"24px\">\n",
              "    <path d=\"M0 0h24v24H0V0z\" fill=\"none\"/>\n",
              "    <path d=\"M18.56 5.44l.94 2.06.94-2.06 2.06-.94-2.06-.94-.94-2.06-.94 2.06-2.06.94zm-11 1L8.5 8.5l.94-2.06 2.06-.94-2.06-.94L8.5 2.5l-.94 2.06-2.06.94zm10 10l.94 2.06.94-2.06 2.06-.94-2.06-.94-.94-2.06-.94 2.06-2.06.94z\"/><path d=\"M17.41 7.96l-1.37-1.37c-.4-.4-.92-.59-1.43-.59-.52 0-1.04.2-1.43.59L10.3 9.45l-7.72 7.72c-.78.78-.78 2.05 0 2.83L4 21.41c.39.39.9.59 1.41.59.51 0 1.02-.2 1.41-.59l7.78-7.78 2.81-2.81c.8-.78.8-2.07 0-2.86zM5.41 20L4 18.59l7.72-7.72 1.47 1.35L5.41 20z\"/>\n",
              "  </svg>\n",
              "      </button>\n",
              "      \n",
              "  <style>\n",
              "    .colab-df-container {\n",
              "      display:flex;\n",
              "      flex-wrap:wrap;\n",
              "      gap: 12px;\n",
              "    }\n",
              "\n",
              "    .colab-df-convert {\n",
              "      background-color: #E8F0FE;\n",
              "      border: none;\n",
              "      border-radius: 50%;\n",
              "      cursor: pointer;\n",
              "      display: none;\n",
              "      fill: #1967D2;\n",
              "      height: 32px;\n",
              "      padding: 0 0 0 0;\n",
              "      width: 32px;\n",
              "    }\n",
              "\n",
              "    .colab-df-convert:hover {\n",
              "      background-color: #E2EBFA;\n",
              "      box-shadow: 0px 1px 2px rgba(60, 64, 67, 0.3), 0px 1px 3px 1px rgba(60, 64, 67, 0.15);\n",
              "      fill: #174EA6;\n",
              "    }\n",
              "\n",
              "    [theme=dark] .colab-df-convert {\n",
              "      background-color: #3B4455;\n",
              "      fill: #D2E3FC;\n",
              "    }\n",
              "\n",
              "    [theme=dark] .colab-df-convert:hover {\n",
              "      background-color: #434B5C;\n",
              "      box-shadow: 0px 1px 3px 1px rgba(0, 0, 0, 0.15);\n",
              "      filter: drop-shadow(0px 1px 2px rgba(0, 0, 0, 0.3));\n",
              "      fill: #FFFFFF;\n",
              "    }\n",
              "  </style>\n",
              "\n",
              "      <script>\n",
              "        const buttonEl =\n",
              "          document.querySelector('#df-cf4c104f-f15d-47fd-9136-f8f37fe2b864 button.colab-df-convert');\n",
              "        buttonEl.style.display =\n",
              "          google.colab.kernel.accessAllowed ? 'block' : 'none';\n",
              "\n",
              "        async function convertToInteractive(key) {\n",
              "          const element = document.querySelector('#df-cf4c104f-f15d-47fd-9136-f8f37fe2b864');\n",
              "          const dataTable =\n",
              "            await google.colab.kernel.invokeFunction('convertToInteractive',\n",
              "                                                     [key], {});\n",
              "          if (!dataTable) return;\n",
              "\n",
              "          const docLinkHtml = 'Like what you see? Visit the ' +\n",
              "            '<a target=\"_blank\" href=https://colab.research.google.com/notebooks/data_table.ipynb>data table notebook</a>'\n",
              "            + ' to learn more about interactive tables.';\n",
              "          element.innerHTML = '';\n",
              "          dataTable['output_type'] = 'display_data';\n",
              "          await google.colab.output.renderOutput(dataTable, element);\n",
              "          const docLink = document.createElement('div');\n",
              "          docLink.innerHTML = docLinkHtml;\n",
              "          element.appendChild(docLink);\n",
              "        }\n",
              "      </script>\n",
              "    </div>\n",
              "  </div>\n",
              "  "
            ]
          },
          "metadata": {},
          "execution_count": 3
        }
      ]
    },
    {
      "cell_type": "code",
      "source": [
        "# Mengecek data apakah ada yang kosong\n",
        "# Jika terdapat yang kosong maka dilakukan pengembalian jumlah nilai yang kosong dalam kumpulan data.\n",
        "data_tweet.isnull().sum()"
      ],
      "metadata": {
        "id": "Wrgg3N6Omw0X",
        "colab": {
          "base_uri": "https://localhost:8080/"
        },
        "outputId": "3953434e-60df-4eb9-caaf-17c84ee7a4ce"
      },
      "execution_count": null,
      "outputs": [
        {
          "output_type": "execute_result",
          "data": {
            "text/plain": [
              "tweet_id     0\n",
              "sentiment    0\n",
              "content      0\n",
              "dtype: int64"
            ]
          },
          "metadata": {},
          "execution_count": 4
        }
      ]
    },
    {
      "cell_type": "markdown",
      "source": [
        "# **Tahap 1 : Preprocessing Data**\n",
        "\n",
        "Dalam preprocessing data terdapat beberapa tahap antara lain\n",
        "\n",
        "*   **Case Folding** : Melakukan proses case folding dengan fungsi lower() pada class Series.str library Pandas\n",
        "*   **Tokenizing** : Proses number removal, whitecase removal, puntuation removal dan word_tokenize() untuk memecah string kedalam tokens. Pandas Dataframe atau Series mampu menjalankan function external untuk di terapkan pada kolom atau baris dengan menggunakan fungsi .apply()\n",
        "*   **Filtering (Stopword Removal)** : Menggunakan library NLTK untuk filtering terhadap Dataframe dengan bahasa english. Menambahkan list stopword dengan menggunakan fungsi .extend() terhadap list_stopword , penggunaan fungsi .set() bermanfaat untuk membuat iterable list menjadi sequence iterable element. Hasilnya kita dapat mempercepat proses pengecekan apakan sebuah token terdapat pada list_stopword atau tidak (if token not in list_stopword\n",
        "*   **Stemming**: Normalization digunakan untuk menyeragamkan term yang memiliki makna sama namun penulisanya berbeda, bisa diakibatkan kesalahan penulisan, penyingkatan kata, ataupun “bahasa gaul”.\n",
        "\n",
        "\n",
        "\n"
      ],
      "metadata": {
        "id": "zBiGewSmx2dk"
      }
    },
    {
      "cell_type": "markdown",
      "source": [
        "## Proses Case Folding, Tokenizing dan Filtering oleh *Library Preprocessor*"
      ],
      "metadata": {
        "id": "nIWVXPBI1LGD"
      }
    },
    {
      "cell_type": "code",
      "source": [
        "!pip install tweet-preprocessor\n",
        "import preprocessor as p"
      ],
      "metadata": {
        "id": "Gitt3NhgniRx",
        "colab": {
          "base_uri": "https://localhost:8080/"
        },
        "outputId": "20a1b4ed-aacb-41bf-adaa-bbf6cb2a4658"
      },
      "execution_count": null,
      "outputs": [
        {
          "output_type": "stream",
          "name": "stdout",
          "text": [
            "Looking in indexes: https://pypi.org/simple, https://us-python.pkg.dev/colab-wheels/public/simple/\n",
            "Collecting tweet-preprocessor\n",
            "  Downloading tweet_preprocessor-0.6.0-py3-none-any.whl (27 kB)\n",
            "Installing collected packages: tweet-preprocessor\n",
            "Successfully installed tweet-preprocessor-0.6.0\n"
          ]
        }
      ]
    },
    {
      "cell_type": "code",
      "source": [
        "def preprocessing_data(x):\n",
        "  return p.clean(x)\n",
        "\n",
        "def tokenize_data(x):\n",
        "  return p.tokenize(x)\n",
        "\n",
        "data_tweet['tweet_clean'] = data_tweet['content'].apply(preprocessing_data)\n",
        "data_tweet['tweet_clean'] = data_tweet['tweet_clean'].apply(tokenize_data)\n",
        "data = data_tweet.drop_duplicates()"
      ],
      "metadata": {
        "id": "mGz-Fo2DmYnj"
      },
      "execution_count": null,
      "outputs": []
    },
    {
      "cell_type": "markdown",
      "source": [
        "## Proses Stemming dari library PorterStemmer"
      ],
      "metadata": {
        "id": "k1vwUuJUnmM9"
      }
    },
    {
      "cell_type": "code",
      "source": [
        "from nltk.stem import PorterStemmer"
      ],
      "metadata": {
        "id": "NOg_5cMWZYEZ"
      },
      "execution_count": null,
      "outputs": []
    },
    {
      "cell_type": "code",
      "source": [
        "ps = PorterStemmer() \n",
        "\n",
        "def stemming_data(x):\n",
        "   return ps.stem(x)\n",
        "\n",
        "data['tweet_clean'] = data['tweet_clean'].apply(stemming_data)"
      ],
      "metadata": {
        "id": "LcgTXfZmnxj_"
      },
      "execution_count": null,
      "outputs": []
    },
    {
      "cell_type": "markdown",
      "source": [
        "# **Tahap 2 : Clustering**\n",
        "\n",
        "Pengelompokan data ke dalam beberapa kategori atau cluster, yaitu\n",
        "komentar positif, netral, dan negatif."
      ],
      "metadata": {
        "id": "EjwOOsO8zyM7"
      }
    },
    {
      "cell_type": "code",
      "source": [
        "!pip install textblob      #for installation\n",
        "\n",
        "import textblob            #to import\n",
        "from textblob import TextBlob"
      ],
      "metadata": {
        "id": "CLVY6mKKZdfC",
        "colab": {
          "base_uri": "https://localhost:8080/"
        },
        "outputId": "db756aa3-9665-4a02-dea5-6edcc2c986c1"
      },
      "execution_count": null,
      "outputs": [
        {
          "output_type": "stream",
          "name": "stdout",
          "text": [
            "Looking in indexes: https://pypi.org/simple, https://us-python.pkg.dev/colab-wheels/public/simple/\n",
            "Requirement already satisfied: textblob in /usr/local/lib/python3.8/dist-packages (0.15.3)\n",
            "Requirement already satisfied: nltk>=3.1 in /usr/local/lib/python3.8/dist-packages (from textblob) (3.7)\n",
            "Requirement already satisfied: click in /usr/local/lib/python3.8/dist-packages (from nltk>=3.1->textblob) (7.1.2)\n",
            "Requirement already satisfied: joblib in /usr/local/lib/python3.8/dist-packages (from nltk>=3.1->textblob) (1.2.0)\n",
            "Requirement already satisfied: regex>=2021.8.3 in /usr/local/lib/python3.8/dist-packages (from nltk>=3.1->textblob) (2022.6.2)\n",
            "Requirement already satisfied: tqdm in /usr/local/lib/python3.8/dist-packages (from nltk>=3.1->textblob) (4.64.1)\n"
          ]
        }
      ]
    },
    {
      "cell_type": "code",
      "source": [
        "# Import TextBlog Package\n",
        "from textblob import TextBlob\n",
        "\n",
        "# Membuat fungsi untuk menghitung polarity\n",
        "def get_polarity(text):\n",
        "    return TextBlob(text).sentiment.polarity\n",
        "\n",
        "data['polarity'] = data['tweet_clean'].apply(get_polarity)\n",
        "\n",
        "\n",
        "def condition(c):\n",
        "    if c > 0:\n",
        "        return \"Positif\"\n",
        "    elif c == 0:\n",
        "        return \"Netral\"\n",
        "    else:\n",
        "        return 'Negatif'\n",
        "\n",
        "\n",
        "data['clustering'] = data['polarity'].apply(condition)\n"
      ],
      "metadata": {
        "id": "ep_JBDti5bwB"
      },
      "execution_count": null,
      "outputs": []
    },
    {
      "cell_type": "markdown",
      "source": [
        "## Dilakukan Pencetakan dari hasil clustering komentar positif, netral, dan negatif setiap baris data"
      ],
      "metadata": {
        "id": "hQNSeqzb2o3H"
      }
    },
    {
      "cell_type": "code",
      "source": [
        "data.head(10)"
      ],
      "metadata": {
        "colab": {
          "base_uri": "https://localhost:8080/",
          "height": 363
        },
        "id": "_9RUGXrx97Zx",
        "outputId": "a92a6a60-4b18-4b1a-f2fa-016db82ce9d9"
      },
      "execution_count": null,
      "outputs": [
        {
          "output_type": "execute_result",
          "data": {
            "text/plain": [
              "     tweet_id   sentiment                                            content  \\\n",
              "0  1956967341       empty  @tiffanylue i know  i was listenin to bad habi...   \n",
              "1  1956967666     sadness  Layin n bed with a headache  ughhhh...waitin o...   \n",
              "2  1956967696     sadness                Funeral ceremony...gloomy friday...   \n",
              "3  1956967789  enthusiasm               wants to hang out with friends SOON!   \n",
              "4  1956968416     neutral  @dannycastillo We want to trade with someone w...   \n",
              "5  1956968477       worry  Re-pinging @ghostridah14: why didn't you go to...   \n",
              "6  1956968487     sadness  I should be sleep, but im not! thinking about ...   \n",
              "7  1956968636       worry               Hmmm. http://www.djhero.com/ is down   \n",
              "8  1956969035     sadness            @charviray Charlene my love. I miss you   \n",
              "9  1956969172     sadness         @kelcouch I'm sorry  at least it's Friday?   \n",
              "\n",
              "                                         tweet_clean  polarity clustering  \n",
              "0  i know i was listenin to bad habit earlier and... -0.350000    Negatif  \n",
              "1  layin n bed with a headache ughhhh...waitin on...  0.000000     Netral  \n",
              "2                funeral ceremony...gloomy friday...  0.000000     Netral  \n",
              "3               wants to hang out with friends soon!  0.250000    Positif  \n",
              "4  we want to trade with someone who has houston ...  0.000000     Netral  \n",
              "5  re-pinging : why didn't you go to prom? bc my ...  0.000000     Netral  \n",
              "6  i should be sleep, but im not! thinking about ...  0.220833    Positif  \n",
              "7                                      hmmm. is down -0.155556    Negatif  \n",
              "8                         charlene my love. i miss y  0.500000    Positif  \n",
              "9                    i'm sorry at least it's friday? -0.400000    Negatif  "
            ],
            "text/html": [
              "\n",
              "  <div id=\"df-84bc1a87-d250-42d0-8933-36294f58d1d4\">\n",
              "    <div class=\"colab-df-container\">\n",
              "      <div>\n",
              "<style scoped>\n",
              "    .dataframe tbody tr th:only-of-type {\n",
              "        vertical-align: middle;\n",
              "    }\n",
              "\n",
              "    .dataframe tbody tr th {\n",
              "        vertical-align: top;\n",
              "    }\n",
              "\n",
              "    .dataframe thead th {\n",
              "        text-align: right;\n",
              "    }\n",
              "</style>\n",
              "<table border=\"1\" class=\"dataframe\">\n",
              "  <thead>\n",
              "    <tr style=\"text-align: right;\">\n",
              "      <th></th>\n",
              "      <th>tweet_id</th>\n",
              "      <th>sentiment</th>\n",
              "      <th>content</th>\n",
              "      <th>tweet_clean</th>\n",
              "      <th>polarity</th>\n",
              "      <th>clustering</th>\n",
              "    </tr>\n",
              "  </thead>\n",
              "  <tbody>\n",
              "    <tr>\n",
              "      <th>0</th>\n",
              "      <td>1956967341</td>\n",
              "      <td>empty</td>\n",
              "      <td>@tiffanylue i know  i was listenin to bad habi...</td>\n",
              "      <td>i know i was listenin to bad habit earlier and...</td>\n",
              "      <td>-0.350000</td>\n",
              "      <td>Negatif</td>\n",
              "    </tr>\n",
              "    <tr>\n",
              "      <th>1</th>\n",
              "      <td>1956967666</td>\n",
              "      <td>sadness</td>\n",
              "      <td>Layin n bed with a headache  ughhhh...waitin o...</td>\n",
              "      <td>layin n bed with a headache ughhhh...waitin on...</td>\n",
              "      <td>0.000000</td>\n",
              "      <td>Netral</td>\n",
              "    </tr>\n",
              "    <tr>\n",
              "      <th>2</th>\n",
              "      <td>1956967696</td>\n",
              "      <td>sadness</td>\n",
              "      <td>Funeral ceremony...gloomy friday...</td>\n",
              "      <td>funeral ceremony...gloomy friday...</td>\n",
              "      <td>0.000000</td>\n",
              "      <td>Netral</td>\n",
              "    </tr>\n",
              "    <tr>\n",
              "      <th>3</th>\n",
              "      <td>1956967789</td>\n",
              "      <td>enthusiasm</td>\n",
              "      <td>wants to hang out with friends SOON!</td>\n",
              "      <td>wants to hang out with friends soon!</td>\n",
              "      <td>0.250000</td>\n",
              "      <td>Positif</td>\n",
              "    </tr>\n",
              "    <tr>\n",
              "      <th>4</th>\n",
              "      <td>1956968416</td>\n",
              "      <td>neutral</td>\n",
              "      <td>@dannycastillo We want to trade with someone w...</td>\n",
              "      <td>we want to trade with someone who has houston ...</td>\n",
              "      <td>0.000000</td>\n",
              "      <td>Netral</td>\n",
              "    </tr>\n",
              "    <tr>\n",
              "      <th>5</th>\n",
              "      <td>1956968477</td>\n",
              "      <td>worry</td>\n",
              "      <td>Re-pinging @ghostridah14: why didn't you go to...</td>\n",
              "      <td>re-pinging : why didn't you go to prom? bc my ...</td>\n",
              "      <td>0.000000</td>\n",
              "      <td>Netral</td>\n",
              "    </tr>\n",
              "    <tr>\n",
              "      <th>6</th>\n",
              "      <td>1956968487</td>\n",
              "      <td>sadness</td>\n",
              "      <td>I should be sleep, but im not! thinking about ...</td>\n",
              "      <td>i should be sleep, but im not! thinking about ...</td>\n",
              "      <td>0.220833</td>\n",
              "      <td>Positif</td>\n",
              "    </tr>\n",
              "    <tr>\n",
              "      <th>7</th>\n",
              "      <td>1956968636</td>\n",
              "      <td>worry</td>\n",
              "      <td>Hmmm. http://www.djhero.com/ is down</td>\n",
              "      <td>hmmm. is down</td>\n",
              "      <td>-0.155556</td>\n",
              "      <td>Negatif</td>\n",
              "    </tr>\n",
              "    <tr>\n",
              "      <th>8</th>\n",
              "      <td>1956969035</td>\n",
              "      <td>sadness</td>\n",
              "      <td>@charviray Charlene my love. I miss you</td>\n",
              "      <td>charlene my love. i miss y</td>\n",
              "      <td>0.500000</td>\n",
              "      <td>Positif</td>\n",
              "    </tr>\n",
              "    <tr>\n",
              "      <th>9</th>\n",
              "      <td>1956969172</td>\n",
              "      <td>sadness</td>\n",
              "      <td>@kelcouch I'm sorry  at least it's Friday?</td>\n",
              "      <td>i'm sorry at least it's friday?</td>\n",
              "      <td>-0.400000</td>\n",
              "      <td>Negatif</td>\n",
              "    </tr>\n",
              "  </tbody>\n",
              "</table>\n",
              "</div>\n",
              "      <button class=\"colab-df-convert\" onclick=\"convertToInteractive('df-84bc1a87-d250-42d0-8933-36294f58d1d4')\"\n",
              "              title=\"Convert this dataframe to an interactive table.\"\n",
              "              style=\"display:none;\">\n",
              "        \n",
              "  <svg xmlns=\"http://www.w3.org/2000/svg\" height=\"24px\"viewBox=\"0 0 24 24\"\n",
              "       width=\"24px\">\n",
              "    <path d=\"M0 0h24v24H0V0z\" fill=\"none\"/>\n",
              "    <path d=\"M18.56 5.44l.94 2.06.94-2.06 2.06-.94-2.06-.94-.94-2.06-.94 2.06-2.06.94zm-11 1L8.5 8.5l.94-2.06 2.06-.94-2.06-.94L8.5 2.5l-.94 2.06-2.06.94zm10 10l.94 2.06.94-2.06 2.06-.94-2.06-.94-.94-2.06-.94 2.06-2.06.94z\"/><path d=\"M17.41 7.96l-1.37-1.37c-.4-.4-.92-.59-1.43-.59-.52 0-1.04.2-1.43.59L10.3 9.45l-7.72 7.72c-.78.78-.78 2.05 0 2.83L4 21.41c.39.39.9.59 1.41.59.51 0 1.02-.2 1.41-.59l7.78-7.78 2.81-2.81c.8-.78.8-2.07 0-2.86zM5.41 20L4 18.59l7.72-7.72 1.47 1.35L5.41 20z\"/>\n",
              "  </svg>\n",
              "      </button>\n",
              "      \n",
              "  <style>\n",
              "    .colab-df-container {\n",
              "      display:flex;\n",
              "      flex-wrap:wrap;\n",
              "      gap: 12px;\n",
              "    }\n",
              "\n",
              "    .colab-df-convert {\n",
              "      background-color: #E8F0FE;\n",
              "      border: none;\n",
              "      border-radius: 50%;\n",
              "      cursor: pointer;\n",
              "      display: none;\n",
              "      fill: #1967D2;\n",
              "      height: 32px;\n",
              "      padding: 0 0 0 0;\n",
              "      width: 32px;\n",
              "    }\n",
              "\n",
              "    .colab-df-convert:hover {\n",
              "      background-color: #E2EBFA;\n",
              "      box-shadow: 0px 1px 2px rgba(60, 64, 67, 0.3), 0px 1px 3px 1px rgba(60, 64, 67, 0.15);\n",
              "      fill: #174EA6;\n",
              "    }\n",
              "\n",
              "    [theme=dark] .colab-df-convert {\n",
              "      background-color: #3B4455;\n",
              "      fill: #D2E3FC;\n",
              "    }\n",
              "\n",
              "    [theme=dark] .colab-df-convert:hover {\n",
              "      background-color: #434B5C;\n",
              "      box-shadow: 0px 1px 3px 1px rgba(0, 0, 0, 0.15);\n",
              "      filter: drop-shadow(0px 1px 2px rgba(0, 0, 0, 0.3));\n",
              "      fill: #FFFFFF;\n",
              "    }\n",
              "  </style>\n",
              "\n",
              "      <script>\n",
              "        const buttonEl =\n",
              "          document.querySelector('#df-84bc1a87-d250-42d0-8933-36294f58d1d4 button.colab-df-convert');\n",
              "        buttonEl.style.display =\n",
              "          google.colab.kernel.accessAllowed ? 'block' : 'none';\n",
              "\n",
              "        async function convertToInteractive(key) {\n",
              "          const element = document.querySelector('#df-84bc1a87-d250-42d0-8933-36294f58d1d4');\n",
              "          const dataTable =\n",
              "            await google.colab.kernel.invokeFunction('convertToInteractive',\n",
              "                                                     [key], {});\n",
              "          if (!dataTable) return;\n",
              "\n",
              "          const docLinkHtml = 'Like what you see? Visit the ' +\n",
              "            '<a target=\"_blank\" href=https://colab.research.google.com/notebooks/data_table.ipynb>data table notebook</a>'\n",
              "            + ' to learn more about interactive tables.';\n",
              "          element.innerHTML = '';\n",
              "          dataTable['output_type'] = 'display_data';\n",
              "          await google.colab.output.renderOutput(dataTable, element);\n",
              "          const docLink = document.createElement('div');\n",
              "          docLink.innerHTML = docLinkHtml;\n",
              "          element.appendChild(docLink);\n",
              "        }\n",
              "      </script>\n",
              "    </div>\n",
              "  </div>\n",
              "  "
            ]
          },
          "metadata": {},
          "execution_count": 11
        }
      ]
    },
    {
      "cell_type": "markdown",
      "source": [
        "# **Tahap 3 : Labeling**\n",
        "\n",
        "Label merupakan hasil dari pengelompokan melalui clustering"
      ],
      "metadata": {
        "id": "7hgniUnffYuw"
      }
    },
    {
      "cell_type": "markdown",
      "source": [
        "## Labeling Hasil Kategori Clustering "
      ],
      "metadata": {
        "id": "Tee6DYKeNDY4"
      }
    },
    {
      "cell_type": "code",
      "source": [
        "# Encode Label pada Sentiment\n",
        "new_labels = {\n",
        "    'Positif': 1,\n",
        "    'Netral': 0,\n",
        "    'Negatif': -1,\n",
        "}\n",
        "\n",
        "\n",
        "data[\"clustering_score\"] = data['clustering'].map(new_labels)\n",
        "\n",
        "data"
      ],
      "metadata": {
        "colab": {
          "base_uri": "https://localhost:8080/",
          "height": 424
        },
        "outputId": "e761dcd4-e303-4867-c0d1-9af64ace95b6",
        "id": "2-sEhNVf_61b"
      },
      "execution_count": null,
      "outputs": [
        {
          "output_type": "execute_result",
          "data": {
            "text/plain": [
              "         tweet_id   sentiment  \\\n",
              "0      1956967341       empty   \n",
              "1      1956967666     sadness   \n",
              "2      1956967696     sadness   \n",
              "3      1956967789  enthusiasm   \n",
              "4      1956968416     neutral   \n",
              "...           ...         ...   \n",
              "39995  1753918954     neutral   \n",
              "39996  1753919001        love   \n",
              "39997  1753919005        love   \n",
              "39998  1753919043   happiness   \n",
              "39999  1753919049        love   \n",
              "\n",
              "                                                 content  \\\n",
              "0      @tiffanylue i know  i was listenin to bad habi...   \n",
              "1      Layin n bed with a headache  ughhhh...waitin o...   \n",
              "2                    Funeral ceremony...gloomy friday...   \n",
              "3                   wants to hang out with friends SOON!   \n",
              "4      @dannycastillo We want to trade with someone w...   \n",
              "...                                                  ...   \n",
              "39995                                   @JohnLloydTaylor   \n",
              "39996                     Happy Mothers Day  All my love   \n",
              "39997  Happy Mother's Day to all the mommies out ther...   \n",
              "39998  @niariley WASSUP BEAUTIFUL!!! FOLLOW ME!!  PEE...   \n",
              "39999  @mopedronin bullet train from tokyo    the gf ...   \n",
              "\n",
              "                                             tweet_clean  polarity clustering  \\\n",
              "0      i know i was listenin to bad habit earlier and... -0.350000    Negatif   \n",
              "1      layin n bed with a headache ughhhh...waitin on...  0.000000     Netral   \n",
              "2                    funeral ceremony...gloomy friday...  0.000000     Netral   \n",
              "3                   wants to hang out with friends soon!  0.250000    Positif   \n",
              "4      we want to trade with someone who has houston ...  0.000000     Netral   \n",
              "...                                                  ...       ...        ...   \n",
              "39995                                                     0.000000     Netral   \n",
              "39996                       happy mothers day all my lov  0.800000    Positif   \n",
              "39997  happy mother's day to all the mommies out ther...  0.368750    Positif   \n",
              "39998  wassup beautiful!!! follow me!! peep out my ne...  0.606534    Positif   \n",
              "39999  bullet train from tokyo the gf and i have been...  0.000000     Netral   \n",
              "\n",
              "       clustering_score  \n",
              "0                    -1  \n",
              "1                     0  \n",
              "2                     0  \n",
              "3                     1  \n",
              "4                     0  \n",
              "...                 ...  \n",
              "39995                 0  \n",
              "39996                 1  \n",
              "39997                 1  \n",
              "39998                 1  \n",
              "39999                 0  \n",
              "\n",
              "[40000 rows x 7 columns]"
            ],
            "text/html": [
              "\n",
              "  <div id=\"df-a4260c1d-42af-40f3-84fb-0237608fd1ef\">\n",
              "    <div class=\"colab-df-container\">\n",
              "      <div>\n",
              "<style scoped>\n",
              "    .dataframe tbody tr th:only-of-type {\n",
              "        vertical-align: middle;\n",
              "    }\n",
              "\n",
              "    .dataframe tbody tr th {\n",
              "        vertical-align: top;\n",
              "    }\n",
              "\n",
              "    .dataframe thead th {\n",
              "        text-align: right;\n",
              "    }\n",
              "</style>\n",
              "<table border=\"1\" class=\"dataframe\">\n",
              "  <thead>\n",
              "    <tr style=\"text-align: right;\">\n",
              "      <th></th>\n",
              "      <th>tweet_id</th>\n",
              "      <th>sentiment</th>\n",
              "      <th>content</th>\n",
              "      <th>tweet_clean</th>\n",
              "      <th>polarity</th>\n",
              "      <th>clustering</th>\n",
              "      <th>clustering_score</th>\n",
              "    </tr>\n",
              "  </thead>\n",
              "  <tbody>\n",
              "    <tr>\n",
              "      <th>0</th>\n",
              "      <td>1956967341</td>\n",
              "      <td>empty</td>\n",
              "      <td>@tiffanylue i know  i was listenin to bad habi...</td>\n",
              "      <td>i know i was listenin to bad habit earlier and...</td>\n",
              "      <td>-0.350000</td>\n",
              "      <td>Negatif</td>\n",
              "      <td>-1</td>\n",
              "    </tr>\n",
              "    <tr>\n",
              "      <th>1</th>\n",
              "      <td>1956967666</td>\n",
              "      <td>sadness</td>\n",
              "      <td>Layin n bed with a headache  ughhhh...waitin o...</td>\n",
              "      <td>layin n bed with a headache ughhhh...waitin on...</td>\n",
              "      <td>0.000000</td>\n",
              "      <td>Netral</td>\n",
              "      <td>0</td>\n",
              "    </tr>\n",
              "    <tr>\n",
              "      <th>2</th>\n",
              "      <td>1956967696</td>\n",
              "      <td>sadness</td>\n",
              "      <td>Funeral ceremony...gloomy friday...</td>\n",
              "      <td>funeral ceremony...gloomy friday...</td>\n",
              "      <td>0.000000</td>\n",
              "      <td>Netral</td>\n",
              "      <td>0</td>\n",
              "    </tr>\n",
              "    <tr>\n",
              "      <th>3</th>\n",
              "      <td>1956967789</td>\n",
              "      <td>enthusiasm</td>\n",
              "      <td>wants to hang out with friends SOON!</td>\n",
              "      <td>wants to hang out with friends soon!</td>\n",
              "      <td>0.250000</td>\n",
              "      <td>Positif</td>\n",
              "      <td>1</td>\n",
              "    </tr>\n",
              "    <tr>\n",
              "      <th>4</th>\n",
              "      <td>1956968416</td>\n",
              "      <td>neutral</td>\n",
              "      <td>@dannycastillo We want to trade with someone w...</td>\n",
              "      <td>we want to trade with someone who has houston ...</td>\n",
              "      <td>0.000000</td>\n",
              "      <td>Netral</td>\n",
              "      <td>0</td>\n",
              "    </tr>\n",
              "    <tr>\n",
              "      <th>...</th>\n",
              "      <td>...</td>\n",
              "      <td>...</td>\n",
              "      <td>...</td>\n",
              "      <td>...</td>\n",
              "      <td>...</td>\n",
              "      <td>...</td>\n",
              "      <td>...</td>\n",
              "    </tr>\n",
              "    <tr>\n",
              "      <th>39995</th>\n",
              "      <td>1753918954</td>\n",
              "      <td>neutral</td>\n",
              "      <td>@JohnLloydTaylor</td>\n",
              "      <td></td>\n",
              "      <td>0.000000</td>\n",
              "      <td>Netral</td>\n",
              "      <td>0</td>\n",
              "    </tr>\n",
              "    <tr>\n",
              "      <th>39996</th>\n",
              "      <td>1753919001</td>\n",
              "      <td>love</td>\n",
              "      <td>Happy Mothers Day  All my love</td>\n",
              "      <td>happy mothers day all my lov</td>\n",
              "      <td>0.800000</td>\n",
              "      <td>Positif</td>\n",
              "      <td>1</td>\n",
              "    </tr>\n",
              "    <tr>\n",
              "      <th>39997</th>\n",
              "      <td>1753919005</td>\n",
              "      <td>love</td>\n",
              "      <td>Happy Mother's Day to all the mommies out ther...</td>\n",
              "      <td>happy mother's day to all the mommies out ther...</td>\n",
              "      <td>0.368750</td>\n",
              "      <td>Positif</td>\n",
              "      <td>1</td>\n",
              "    </tr>\n",
              "    <tr>\n",
              "      <th>39998</th>\n",
              "      <td>1753919043</td>\n",
              "      <td>happiness</td>\n",
              "      <td>@niariley WASSUP BEAUTIFUL!!! FOLLOW ME!!  PEE...</td>\n",
              "      <td>wassup beautiful!!! follow me!! peep out my ne...</td>\n",
              "      <td>0.606534</td>\n",
              "      <td>Positif</td>\n",
              "      <td>1</td>\n",
              "    </tr>\n",
              "    <tr>\n",
              "      <th>39999</th>\n",
              "      <td>1753919049</td>\n",
              "      <td>love</td>\n",
              "      <td>@mopedronin bullet train from tokyo    the gf ...</td>\n",
              "      <td>bullet train from tokyo the gf and i have been...</td>\n",
              "      <td>0.000000</td>\n",
              "      <td>Netral</td>\n",
              "      <td>0</td>\n",
              "    </tr>\n",
              "  </tbody>\n",
              "</table>\n",
              "<p>40000 rows × 7 columns</p>\n",
              "</div>\n",
              "      <button class=\"colab-df-convert\" onclick=\"convertToInteractive('df-a4260c1d-42af-40f3-84fb-0237608fd1ef')\"\n",
              "              title=\"Convert this dataframe to an interactive table.\"\n",
              "              style=\"display:none;\">\n",
              "        \n",
              "  <svg xmlns=\"http://www.w3.org/2000/svg\" height=\"24px\"viewBox=\"0 0 24 24\"\n",
              "       width=\"24px\">\n",
              "    <path d=\"M0 0h24v24H0V0z\" fill=\"none\"/>\n",
              "    <path d=\"M18.56 5.44l.94 2.06.94-2.06 2.06-.94-2.06-.94-.94-2.06-.94 2.06-2.06.94zm-11 1L8.5 8.5l.94-2.06 2.06-.94-2.06-.94L8.5 2.5l-.94 2.06-2.06.94zm10 10l.94 2.06.94-2.06 2.06-.94-2.06-.94-.94-2.06-.94 2.06-2.06.94z\"/><path d=\"M17.41 7.96l-1.37-1.37c-.4-.4-.92-.59-1.43-.59-.52 0-1.04.2-1.43.59L10.3 9.45l-7.72 7.72c-.78.78-.78 2.05 0 2.83L4 21.41c.39.39.9.59 1.41.59.51 0 1.02-.2 1.41-.59l7.78-7.78 2.81-2.81c.8-.78.8-2.07 0-2.86zM5.41 20L4 18.59l7.72-7.72 1.47 1.35L5.41 20z\"/>\n",
              "  </svg>\n",
              "      </button>\n",
              "      \n",
              "  <style>\n",
              "    .colab-df-container {\n",
              "      display:flex;\n",
              "      flex-wrap:wrap;\n",
              "      gap: 12px;\n",
              "    }\n",
              "\n",
              "    .colab-df-convert {\n",
              "      background-color: #E8F0FE;\n",
              "      border: none;\n",
              "      border-radius: 50%;\n",
              "      cursor: pointer;\n",
              "      display: none;\n",
              "      fill: #1967D2;\n",
              "      height: 32px;\n",
              "      padding: 0 0 0 0;\n",
              "      width: 32px;\n",
              "    }\n",
              "\n",
              "    .colab-df-convert:hover {\n",
              "      background-color: #E2EBFA;\n",
              "      box-shadow: 0px 1px 2px rgba(60, 64, 67, 0.3), 0px 1px 3px 1px rgba(60, 64, 67, 0.15);\n",
              "      fill: #174EA6;\n",
              "    }\n",
              "\n",
              "    [theme=dark] .colab-df-convert {\n",
              "      background-color: #3B4455;\n",
              "      fill: #D2E3FC;\n",
              "    }\n",
              "\n",
              "    [theme=dark] .colab-df-convert:hover {\n",
              "      background-color: #434B5C;\n",
              "      box-shadow: 0px 1px 3px 1px rgba(0, 0, 0, 0.15);\n",
              "      filter: drop-shadow(0px 1px 2px rgba(0, 0, 0, 0.3));\n",
              "      fill: #FFFFFF;\n",
              "    }\n",
              "  </style>\n",
              "\n",
              "      <script>\n",
              "        const buttonEl =\n",
              "          document.querySelector('#df-a4260c1d-42af-40f3-84fb-0237608fd1ef button.colab-df-convert');\n",
              "        buttonEl.style.display =\n",
              "          google.colab.kernel.accessAllowed ? 'block' : 'none';\n",
              "\n",
              "        async function convertToInteractive(key) {\n",
              "          const element = document.querySelector('#df-a4260c1d-42af-40f3-84fb-0237608fd1ef');\n",
              "          const dataTable =\n",
              "            await google.colab.kernel.invokeFunction('convertToInteractive',\n",
              "                                                     [key], {});\n",
              "          if (!dataTable) return;\n",
              "\n",
              "          const docLinkHtml = 'Like what you see? Visit the ' +\n",
              "            '<a target=\"_blank\" href=https://colab.research.google.com/notebooks/data_table.ipynb>data table notebook</a>'\n",
              "            + ' to learn more about interactive tables.';\n",
              "          element.innerHTML = '';\n",
              "          dataTable['output_type'] = 'display_data';\n",
              "          await google.colab.output.renderOutput(dataTable, element);\n",
              "          const docLink = document.createElement('div');\n",
              "          docLink.innerHTML = docLinkHtml;\n",
              "          element.appendChild(docLink);\n",
              "        }\n",
              "      </script>\n",
              "    </div>\n",
              "  </div>\n",
              "  "
            ]
          },
          "metadata": {},
          "execution_count": 12
        }
      ]
    },
    {
      "cell_type": "markdown",
      "source": [
        "## Labeling variabel X"
      ],
      "metadata": {
        "id": "JEGtA_n130Ie"
      }
    },
    {
      "cell_type": "code",
      "source": [
        "# Mengimport fitur TF-IDF untuk melakukan pembobotan\n",
        "from sklearn.feature_extraction.text import TfidfVectorizer\n",
        "\n",
        "vectorizer = TfidfVectorizer()\n",
        "\n",
        "X = vectorizer.fit_transform(data[\"tweet_clean\"])\n",
        "X.shape"
      ],
      "metadata": {
        "id": "EehhS0xkorWA",
        "colab": {
          "base_uri": "https://localhost:8080/"
        },
        "outputId": "d702cd77-76dd-4b23-a8f9-db9f968b9963"
      },
      "execution_count": null,
      "outputs": [
        {
          "output_type": "execute_result",
          "data": {
            "text/plain": [
              "(40000, 30119)"
            ]
          },
          "metadata": {},
          "execution_count": 13
        }
      ]
    },
    {
      "cell_type": "markdown",
      "source": [
        "## Labeling variabel Y"
      ],
      "metadata": {
        "id": "I7LD_AEy350k"
      }
    },
    {
      "cell_type": "code",
      "source": [
        "# Menentukan data X dari kolom klasifikasi dari hasil clustering\n",
        "\n",
        "y = data['clustering_score']\n",
        "y.shape"
      ],
      "metadata": {
        "id": "GO1ZUOUnhQfl",
        "colab": {
          "base_uri": "https://localhost:8080/"
        },
        "outputId": "fde4e2f4-ed6f-4305-abcb-58635bf98017"
      },
      "execution_count": null,
      "outputs": [
        {
          "output_type": "execute_result",
          "data": {
            "text/plain": [
              "(40000,)"
            ]
          },
          "metadata": {},
          "execution_count": 14
        }
      ]
    },
    {
      "cell_type": "markdown",
      "source": [
        "## Pemilahan data training dan testing yang sesuai dan proporsional"
      ],
      "metadata": {
        "id": "bl5JbNMdfqdf"
      }
    },
    {
      "cell_type": "code",
      "source": [
        "from sklearn.model_selection import train_test_split\n",
        "\n",
        "\n",
        "X_train, X_test, y_train, y_test = train_test_split(X, y, test_size = 0.2, random_state = 0)\n",
        "print(X_train.shape, y_train.shape)\n",
        "print(X_test.shape, y_test.shape)"
      ],
      "metadata": {
        "id": "aM6eWd2v9Yyb",
        "colab": {
          "base_uri": "https://localhost:8080/"
        },
        "outputId": "6517ac73-0552-46db-a881-a68e20def386"
      },
      "execution_count": null,
      "outputs": [
        {
          "output_type": "stream",
          "name": "stdout",
          "text": [
            "(32000, 30119) (32000,)\n",
            "(8000, 30119) (8000,)\n"
          ]
        }
      ]
    },
    {
      "cell_type": "markdown",
      "source": [
        "# **Tahap 4 : Classification**\n",
        "\n",
        "Pada proses klasifikasi ini menggunakan metode algoritma yaitu **Decision Tree Classifier** yang pernah dipelajari dalam matakuliah Machine Learning"
      ],
      "metadata": {
        "id": "P2imdEsxf53A"
      }
    },
    {
      "cell_type": "code",
      "source": [
        "from sklearn.tree import DecisionTreeClassifier \n",
        "# Secara default, DecisionTreeClassifier dari scikit-learn akan menggunakan nilai \"Gini\" untuk kriteria\n",
        "# Terdapat beberapa \"hyperparamater\" yang dapat digunakan. Silahka baca dokumentasi\n",
        "# Pada kasus ini kita akan menggunakan parameter default\n",
        "dt = DecisionTreeClassifier()\n",
        "\n",
        "# Sesuaikan dt ke set training\n",
        "dt.fit(X, y)\n",
        "\n",
        "# Memprediksi label set test\n",
        "y_pred_test = dt.predict(X_test)\n",
        "\n",
        "# Memprediksi label set training\n",
        "y_pred_train = dt.predict(X_train)"
      ],
      "metadata": {
        "id": "CaZvdSTtjo81"
      },
      "execution_count": null,
      "outputs": []
    },
    {
      "cell_type": "markdown",
      "source": [
        "# **Tahap 5 : Predict**\n",
        "\n",
        "Uji coba apakah machine learning yang Anda buat bekerja dengan baik.\n",
        "Caranya dengan melihat hasil atau prediksi yang dihasilkan. Apakah sesuai\n",
        "dengan input data. \n",
        "\n"
      ],
      "metadata": {
        "id": "JXVzIYOigMlh"
      }
    },
    {
      "cell_type": "code",
      "source": [
        "res = pd.DataFrame({})\n",
        "\n",
        "# Make Prediction with new data\n",
        "new_data = pd.DataFrame({\n",
        "   'data': ['Hello my name is Aisyah, I am beautiful and smart', \n",
        "            'He too ugly',\n",
        "            'He is very beautiful and handsome', \n",
        "            'i hate him', \n",
        "            'Dont do violence to women!', \n",
        "            'Do you want a vacation?'],\n",
        "})\n",
        "\n",
        "\n",
        "# Vectorize\n",
        "new_data = new_data['data'].apply(preprocessing_data)\n",
        "res['data'] = new_data;\n",
        "new_data = vectorizer.transform(new_data)\n",
        "\n",
        "# Predict\n",
        "new_pred = dt.predict(new_data)\n",
        "\n",
        "# Evaluation\n",
        "new_pred = pd.Series(new_pred).map({1: 'Positif', 0:'Netral', -1:'Negatif'})\n",
        "res['label'] = new_pred\n",
        "\n",
        "res"
      ],
      "metadata": {
        "colab": {
          "base_uri": "https://localhost:8080/",
          "height": 238
        },
        "id": "Vqs72rQF4zRJ",
        "outputId": "80900442-a0ae-4650-dacb-d23d10e2d247"
      },
      "execution_count": null,
      "outputs": [
        {
          "output_type": "execute_result",
          "data": {
            "text/plain": [
              "                                                data    label\n",
              "0  Hello my name is Aisyah, I am beautiful and smart  Positif\n",
              "1                                        He too ugly  Negatif\n",
              "2                  He is very beautiful and handsome  Positif\n",
              "3                                         i hate him  Negatif\n",
              "4                         Dont do violence to women!   Netral\n",
              "5                            Do you want a vacation?   Netral"
            ],
            "text/html": [
              "\n",
              "  <div id=\"df-e4253771-9a99-42bc-8e18-ee42b963f94c\">\n",
              "    <div class=\"colab-df-container\">\n",
              "      <div>\n",
              "<style scoped>\n",
              "    .dataframe tbody tr th:only-of-type {\n",
              "        vertical-align: middle;\n",
              "    }\n",
              "\n",
              "    .dataframe tbody tr th {\n",
              "        vertical-align: top;\n",
              "    }\n",
              "\n",
              "    .dataframe thead th {\n",
              "        text-align: right;\n",
              "    }\n",
              "</style>\n",
              "<table border=\"1\" class=\"dataframe\">\n",
              "  <thead>\n",
              "    <tr style=\"text-align: right;\">\n",
              "      <th></th>\n",
              "      <th>data</th>\n",
              "      <th>label</th>\n",
              "    </tr>\n",
              "  </thead>\n",
              "  <tbody>\n",
              "    <tr>\n",
              "      <th>0</th>\n",
              "      <td>Hello my name is Aisyah, I am beautiful and smart</td>\n",
              "      <td>Positif</td>\n",
              "    </tr>\n",
              "    <tr>\n",
              "      <th>1</th>\n",
              "      <td>He too ugly</td>\n",
              "      <td>Negatif</td>\n",
              "    </tr>\n",
              "    <tr>\n",
              "      <th>2</th>\n",
              "      <td>He is very beautiful and handsome</td>\n",
              "      <td>Positif</td>\n",
              "    </tr>\n",
              "    <tr>\n",
              "      <th>3</th>\n",
              "      <td>i hate him</td>\n",
              "      <td>Negatif</td>\n",
              "    </tr>\n",
              "    <tr>\n",
              "      <th>4</th>\n",
              "      <td>Dont do violence to women!</td>\n",
              "      <td>Netral</td>\n",
              "    </tr>\n",
              "    <tr>\n",
              "      <th>5</th>\n",
              "      <td>Do you want a vacation?</td>\n",
              "      <td>Netral</td>\n",
              "    </tr>\n",
              "  </tbody>\n",
              "</table>\n",
              "</div>\n",
              "      <button class=\"colab-df-convert\" onclick=\"convertToInteractive('df-e4253771-9a99-42bc-8e18-ee42b963f94c')\"\n",
              "              title=\"Convert this dataframe to an interactive table.\"\n",
              "              style=\"display:none;\">\n",
              "        \n",
              "  <svg xmlns=\"http://www.w3.org/2000/svg\" height=\"24px\"viewBox=\"0 0 24 24\"\n",
              "       width=\"24px\">\n",
              "    <path d=\"M0 0h24v24H0V0z\" fill=\"none\"/>\n",
              "    <path d=\"M18.56 5.44l.94 2.06.94-2.06 2.06-.94-2.06-.94-.94-2.06-.94 2.06-2.06.94zm-11 1L8.5 8.5l.94-2.06 2.06-.94-2.06-.94L8.5 2.5l-.94 2.06-2.06.94zm10 10l.94 2.06.94-2.06 2.06-.94-2.06-.94-.94-2.06-.94 2.06-2.06.94z\"/><path d=\"M17.41 7.96l-1.37-1.37c-.4-.4-.92-.59-1.43-.59-.52 0-1.04.2-1.43.59L10.3 9.45l-7.72 7.72c-.78.78-.78 2.05 0 2.83L4 21.41c.39.39.9.59 1.41.59.51 0 1.02-.2 1.41-.59l7.78-7.78 2.81-2.81c.8-.78.8-2.07 0-2.86zM5.41 20L4 18.59l7.72-7.72 1.47 1.35L5.41 20z\"/>\n",
              "  </svg>\n",
              "      </button>\n",
              "      \n",
              "  <style>\n",
              "    .colab-df-container {\n",
              "      display:flex;\n",
              "      flex-wrap:wrap;\n",
              "      gap: 12px;\n",
              "    }\n",
              "\n",
              "    .colab-df-convert {\n",
              "      background-color: #E8F0FE;\n",
              "      border: none;\n",
              "      border-radius: 50%;\n",
              "      cursor: pointer;\n",
              "      display: none;\n",
              "      fill: #1967D2;\n",
              "      height: 32px;\n",
              "      padding: 0 0 0 0;\n",
              "      width: 32px;\n",
              "    }\n",
              "\n",
              "    .colab-df-convert:hover {\n",
              "      background-color: #E2EBFA;\n",
              "      box-shadow: 0px 1px 2px rgba(60, 64, 67, 0.3), 0px 1px 3px 1px rgba(60, 64, 67, 0.15);\n",
              "      fill: #174EA6;\n",
              "    }\n",
              "\n",
              "    [theme=dark] .colab-df-convert {\n",
              "      background-color: #3B4455;\n",
              "      fill: #D2E3FC;\n",
              "    }\n",
              "\n",
              "    [theme=dark] .colab-df-convert:hover {\n",
              "      background-color: #434B5C;\n",
              "      box-shadow: 0px 1px 3px 1px rgba(0, 0, 0, 0.15);\n",
              "      filter: drop-shadow(0px 1px 2px rgba(0, 0, 0, 0.3));\n",
              "      fill: #FFFFFF;\n",
              "    }\n",
              "  </style>\n",
              "\n",
              "      <script>\n",
              "        const buttonEl =\n",
              "          document.querySelector('#df-e4253771-9a99-42bc-8e18-ee42b963f94c button.colab-df-convert');\n",
              "        buttonEl.style.display =\n",
              "          google.colab.kernel.accessAllowed ? 'block' : 'none';\n",
              "\n",
              "        async function convertToInteractive(key) {\n",
              "          const element = document.querySelector('#df-e4253771-9a99-42bc-8e18-ee42b963f94c');\n",
              "          const dataTable =\n",
              "            await google.colab.kernel.invokeFunction('convertToInteractive',\n",
              "                                                     [key], {});\n",
              "          if (!dataTable) return;\n",
              "\n",
              "          const docLinkHtml = 'Like what you see? Visit the ' +\n",
              "            '<a target=\"_blank\" href=https://colab.research.google.com/notebooks/data_table.ipynb>data table notebook</a>'\n",
              "            + ' to learn more about interactive tables.';\n",
              "          element.innerHTML = '';\n",
              "          dataTable['output_type'] = 'display_data';\n",
              "          await google.colab.output.renderOutput(dataTable, element);\n",
              "          const docLink = document.createElement('div');\n",
              "          docLink.innerHTML = docLinkHtml;\n",
              "          element.appendChild(docLink);\n",
              "        }\n",
              "      </script>\n",
              "    </div>\n",
              "  </div>\n",
              "  "
            ]
          },
          "metadata": {},
          "execution_count": 57
        }
      ]
    },
    {
      "cell_type": "markdown",
      "source": [
        "# **Tahap 6 : Evaluasi**\n",
        " \n",
        "Pada proses evaluasi, minimal Anda harus menggunakan metric akurasi.\n",
        "Akan tetapi Anda juga dapat menambahkan metric lain seperti \n",
        "\n",
        "*   Confusion Matrix\n",
        "*   Accuracy\n",
        "*   Recall\n",
        "*   Precision\n",
        "*   F1 score\n",
        "*   ROC curve (Receiver Operating Characteristic curve)\n"
      ],
      "metadata": {
        "id": "6gSFgbCFi3fg"
      }
    },
    {
      "cell_type": "code",
      "source": [
        "from sklearn.metrics import confusion_matrix\n",
        "from sklearn.metrics import accuracy_score, precision_score, f1_score, recall_score, roc_curve"
      ],
      "metadata": {
        "id": "P57-7YItsvuz"
      },
      "execution_count": null,
      "outputs": []
    },
    {
      "cell_type": "markdown",
      "source": [
        "## Confusion Matrix dari data Test"
      ],
      "metadata": {
        "id": "qG6yCWE340d4"
      }
    },
    {
      "cell_type": "code",
      "source": [
        "from sklearn.metrics import confusion_matrix\n",
        "\n",
        "conf_mat = confusion_matrix(y_test, y_pred_test)\n",
        "print('Confusion Matrix: \\n',conf_mat)"
      ],
      "metadata": {
        "id": "3fCJOvsFjt3R",
        "colab": {
          "base_uri": "https://localhost:8080/"
        },
        "outputId": "41b69303-de16-4b56-9e7a-0f3dfa90356e"
      },
      "execution_count": null,
      "outputs": [
        {
          "output_type": "stream",
          "name": "stdout",
          "text": [
            "Confusion Matrix: \n",
            " [[1507    0    0]\n",
            " [   0 2925    0]\n",
            " [   0    0 3568]]\n"
          ]
        }
      ]
    },
    {
      "cell_type": "code",
      "source": [
        "import seaborn as sns\n",
        "import matplotlib.pyplot as plt\n",
        "\n",
        "f, ax = plt.subplots(figsize=(8,5))\n",
        "sns.heatmap(confusion_matrix(y_test, y_pred_test), annot=True, fmt=\".0f\", ax=ax)\n",
        "plt.xlabel(\"Predicted Value\")\n",
        "plt.ylabel(\"Actual Value\")\n",
        "ax.xaxis.set_ticklabels(['Positif', 'Netral', 'Negatif'])\n",
        "ax.yaxis.set_ticklabels(['Positif', 'Netral', 'Negatif'])\n",
        "plt.show()\n"
      ],
      "metadata": {
        "id": "t8QRi7phlU4M",
        "colab": {
          "base_uri": "https://localhost:8080/",
          "height": 334
        },
        "outputId": "e1be0b8f-d67f-4a48-fd5f-63fafa0efd5e"
      },
      "execution_count": null,
      "outputs": [
        {
          "output_type": "display_data",
          "data": {
            "text/plain": [
              "<Figure size 576x360 with 2 Axes>"
            ],
            "image/png": "[encoded data removed]"
          },
          "metadata": {
            "needs_background": "light"
          }
        }
      ]
    },
    {
      "cell_type": "code",
      "source": [
        "results = {}"
      ],
      "metadata": {
        "id": "HjUffGfq_axM"
      },
      "execution_count": null,
      "outputs": []
    },
    {
      "cell_type": "code",
      "source": [
        "TP1 = true_pos = 1507\n",
        "TN1 = true_neg = 6493\n",
        "FP1 = false_pos = 0\n",
        "FN1 = false_neg = 0"
      ],
      "metadata": {
        "id": "tBc7fqwQ_N_V"
      },
      "execution_count": null,
      "outputs": []
    },
    {
      "cell_type": "markdown",
      "source": [
        "## Confusion Matrix dari data Training"
      ],
      "metadata": {
        "id": "N8uR9cS8zFhn"
      }
    },
    {
      "cell_type": "code",
      "source": [
        "from sklearn.metrics import confusion_matrix\n",
        "\n",
        "conf_mat = confusion_matrix(y_train, y_pred_train)\n",
        "print('Confusion Matrix: \\n',conf_mat)"
      ],
      "metadata": {
        "colab": {
          "base_uri": "https://localhost:8080/"
        },
        "outputId": "19f3eaae-b284-460d-b0ca-2db7269b640f",
        "id": "b3GROSSWJcBa"
      },
      "execution_count": null,
      "outputs": [
        {
          "output_type": "stream",
          "name": "stdout",
          "text": [
            "Confusion Matrix: \n",
            " [[ 6397     0     0]\n",
            " [    0 11576     0]\n",
            " [    0     0 14027]]\n"
          ]
        }
      ]
    },
    {
      "cell_type": "code",
      "source": [
        "import seaborn as sns\n",
        "import matplotlib.pyplot as plt\n",
        "\n",
        "f, ax = plt.subplots(figsize=(8,5))\n",
        "sns.heatmap(confusion_matrix(y_train, y_pred_train), annot=True, fmt=\".0f\", ax=ax)\n",
        "plt.xlabel(\"y_head\")\n",
        "plt.ylabel(\"y_true\")\n",
        "ax.xaxis.set_ticklabels(['Positif', 'Netral', 'Negatif'])\n",
        "ax.yaxis.set_ticklabels(['Positif', 'Netral', 'Negatif'])\n",
        "plt.show()\n"
      ],
      "metadata": {
        "colab": {
          "base_uri": "https://localhost:8080/",
          "height": 338
        },
        "outputId": "866c2b43-b3b1-415e-c09c-a6cd16c868df",
        "id": "aLFrYhAsJcBk"
      },
      "execution_count": null,
      "outputs": [
        {
          "output_type": "display_data",
          "data": {
            "text/plain": [
              "<Figure size 576x360 with 2 Axes>"
            ],
            "image/png": "[encoded data removed]"
          },
          "metadata": {
            "needs_background": "light"
          }
        }
      ]
    },
    {
      "cell_type": "code",
      "source": [
        "TP2 = true_pos = 6397\n",
        "TN2 = true_neg = 256033\n",
        "FP2 = false_pos = 0\n",
        "FN2 = false_neg = 0"
      ],
      "metadata": {
        "id": "-Y7k3LDqBdDs"
      },
      "execution_count": null,
      "outputs": []
    },
    {
      "cell_type": "markdown",
      "source": [
        "## Accuracy\n",
        "Jumlah contoh yang diprediksi dengan benar / jumlah total contoh  \n",
        "![alt text](https://wikimedia.org/api/rest_v1/media/math/render/svg/c72ec21ef2505c2d376e96197637fc64f75e5891)"
      ],
      "metadata": {
        "id": "bB4sYNuTsQPZ"
      }
    },
    {
      "cell_type": "markdown",
      "source": [
        "**Perhitungan dengan Result**"
      ],
      "metadata": {
        "id": "isSckQ4qB-WB"
      }
    },
    {
      "cell_type": "code",
      "source": [
        "metric = \"ACC of Testing data\"\n",
        "results[metric] = (TP1 + TN1) / (TP1 + TN1 + FP1 + FN1)\n",
        "print(f\"{metric} is {results[metric]: .3f}\")\n",
        "\n",
        "print(\"\")\n",
        "\n",
        "metric = \"ACC of Training data\"\n",
        "results[metric] = (TP2 + TN2) / (TP2 + TN2 + FP2 + FN2)\n",
        "print(f\"{metric} is {results[metric]: .3f}\")"
      ],
      "metadata": {
        "colab": {
          "base_uri": "https://localhost:8080/"
        },
        "id": "20395Omy_597",
        "outputId": "989abfc5-5a5b-4e76-b89f-df086afed000"
      },
      "execution_count": null,
      "outputs": [
        {
          "output_type": "stream",
          "name": "stdout",
          "text": [
            "ACC of Testing data is  1.000\n",
            "\n",
            "ACC of Training data is  1.000\n"
          ]
        }
      ]
    },
    {
      "cell_type": "markdown",
      "source": [
        "**Perhitungan dengan Library Matrics fungsi `accuracy_score`** "
      ],
      "metadata": {
        "id": "0euXXHOTCMna"
      }
    },
    {
      "cell_type": "code",
      "source": [
        "#  menghitung set accuracy\n",
        "print(\"Menghitung akurasi Data testing\")\n",
        "acc_dtest = accuracy_score(y_test, y_pred_test)\n",
        "print(\"Test set accuracy: {:.2f}\".format(acc_dtest))\n",
        "print(f\"Test set accuracy: {acc_dtest}\")\n",
        "\n",
        "print(\"\")\n",
        "\n",
        "print(\"Menghitung akurasi Data training\")\n",
        "acc_dtrain = accuracy_score(y_train, y_pred_train)\n",
        "print(\"Train set accuracy: {:.2f}\".format(acc_dtrain))\n",
        "print(f\"Train set accuracy: {acc_dtrain}\")"
      ],
      "metadata": {
        "id": "IwyWwfwysRlE",
        "colab": {
          "base_uri": "https://localhost:8080/"
        },
        "outputId": "95b6228e-4de2-41c1-8859-b8eb22740668"
      },
      "execution_count": null,
      "outputs": [
        {
          "output_type": "stream",
          "name": "stdout",
          "text": [
            "Menghitung akurasi Data testing\n",
            "Test set accuracy: 1.00\n",
            "Test set accuracy: 1.0\n",
            "\n",
            "Menghitung akurasi Data training\n",
            "Train set accuracy: 1.00\n",
            "Train set accuracy: 1.0\n"
          ]
        }
      ]
    },
    {
      "cell_type": "markdown",
      "source": [
        "## Positive Predictive Value (Precision)\n",
        "jumlah sampel sebenarnya dan diprediksi sebagai `Positive` / jumlah total sampel diprediksi sebagai `Positive`  \n",
        "Also called **Precision**.  \n",
        "![alt text](https://wikimedia.org/api/rest_v1/media/math/render/svg/699fcdb880b7f6a92742bc0845b8b60b59806a98)\n"
      ],
      "metadata": {
        "id": "EsNpln-i_pcz"
      }
    },
    {
      "cell_type": "markdown",
      "source": [
        "**Perhitungan dengan Result**"
      ],
      "metadata": {
        "id": "VKNjnzzWChpu"
      }
    },
    {
      "cell_type": "code",
      "source": [
        "metric = \"PPV of Testing data\"\n",
        "results[metric] = TP1 / (TP1 + FP1)\n",
        "print(f\"{metric} is {results[metric]: .3f}\")\n",
        "\n",
        "print(\"\")\n",
        "\n",
        "metric = \"PPV of Training data\"\n",
        "results[metric] = TP2 / (TP2 + FP2)\n",
        "print(f\"{metric} is {results[metric]: .3f}\")"
      ],
      "metadata": {
        "colab": {
          "base_uri": "https://localhost:8080/"
        },
        "outputId": "41aae8f1-8694-445d-9d38-9a50b0eec2e8",
        "id": "ZZVwA7Z5Chpv"
      },
      "execution_count": null,
      "outputs": [
        {
          "output_type": "stream",
          "name": "stdout",
          "text": [
            "PPV of Testing data is  1.000\n",
            "\n",
            "PPV of Training data is  1.000\n"
          ]
        }
      ]
    },
    {
      "cell_type": "markdown",
      "source": [
        "**Perhitungan dengan Library Matrics fungsi `precision_score`** "
      ],
      "metadata": {
        "id": "J8CNKRyhChpw"
      }
    },
    {
      "cell_type": "code",
      "source": [
        "#  menghitung set Precision\n",
        "print(\"Menghitung Precision Data testing\")\n",
        "pcs_dtest = precision_score(y_test, y_pred_test, average='weighted', zero_division=0)\n",
        "print(\"Test set Precision: {:.2f}\".format(pcs_dtest))\n",
        "print(f\"Test set Precision: {pcs_dtest}\")\n",
        "\n",
        "print(\"\")\n",
        "\n",
        "print(\"Menghitung Precision Data training\")\n",
        "pcs_dtrain = precision_score(y_train, y_pred_train, average='weighted', zero_division=0)\n",
        "print(\"Train set Precision: {:.2f}\".format(pcs_dtrain))\n",
        "print(f\"Train set Precision: {pcs_dtrain}\")"
      ],
      "metadata": {
        "colab": {
          "base_uri": "https://localhost:8080/"
        },
        "id": "vKLoJNHvQkws",
        "outputId": "7a25968c-debf-4612-d30d-56392a8f670d"
      },
      "execution_count": null,
      "outputs": [
        {
          "output_type": "stream",
          "name": "stdout",
          "text": [
            "Menghitung Precision Data testing\n",
            "Test set Precision: 1.00\n",
            "Test set Precision: 1.0\n",
            "\n",
            "Menghitung Precision Data training\n",
            "Train set Precision: 1.00\n",
            "Train set Precision: 1.0\n"
          ]
        }
      ]
    },
    {
      "cell_type": "markdown",
      "source": [
        "## True Positive Rate (Recall)\n",
        "jumlah sampel sebenarnya dan diprediksi sebagai `Positive` / jumlah sampel sebenarnya `Positive`  \n",
        "juga disebut sebagai **Sensitivity or Recall**.  \n",
        "![alt text](https://wikimedia.org/api/rest_v1/media/math/render/svg/64d5540cbadeb83f864d7a731b7ab43cccd0f353)\n"
      ],
      "metadata": {
        "id": "jRTV6gwf_utz"
      }
    },
    {
      "cell_type": "markdown",
      "source": [
        "**Perhitungan dengan Result**"
      ],
      "metadata": {
        "id": "Lm7ADiL6C905"
      }
    },
    {
      "cell_type": "code",
      "source": [
        "metric = \"TPR of Testing Data\"\n",
        "results[metric] = TP1 / (TP1 + FN1)\n",
        "print(f\"{metric} is {results[metric]: .3f}\")\n",
        "\n",
        "print(\"\")\n",
        "\n",
        "metric = \"TPR of Training Data\"\n",
        "results[metric] = TP2 / (TP2 + FN2)\n",
        "print(f\"{metric} is {results[metric]: .3f}\")"
      ],
      "metadata": {
        "colab": {
          "base_uri": "https://localhost:8080/"
        },
        "outputId": "c81b441c-3031-4c3a-93f3-e011567931da",
        "id": "UQ0zSKlxC906"
      },
      "execution_count": null,
      "outputs": [
        {
          "output_type": "stream",
          "name": "stdout",
          "text": [
            "TPR of Testing Data is  1.000\n",
            "\n",
            "TPR of Training Data is  1.000\n"
          ]
        }
      ]
    },
    {
      "cell_type": "markdown",
      "source": [
        "**Perhitungan dengan Library Matrics fungsi `recall_score`** "
      ],
      "metadata": {
        "id": "UlPZKdADC907"
      }
    },
    {
      "cell_type": "code",
      "source": [
        "#  menghitung set Recall\n",
        "print(\"Menghitung Recall Data testing\")\n",
        "pcs_dtest = recall_score(y_test, y_pred_test, average='weighted', zero_division=0)\n",
        "print(\"Test set Recall: {:.2f}\".format(pcs_dtest))\n",
        "print(f\"Test set Recall: {pcs_dtest}\")\n",
        "\n",
        "print(\"\")\n",
        "\n",
        "print(\"Menghitung Recall Data training\")\n",
        "pcs_dtrain = recall_score(y_train, y_pred_train, average='weighted', zero_division=0)\n",
        "print(\"Train set Recall: {:.2f}\".format(pcs_dtrain))\n",
        "print(f\"Train set Recall: {pcs_dtrain}\")"
      ],
      "metadata": {
        "colab": {
          "base_uri": "https://localhost:8080/"
        },
        "id": "F1v3jixGRLDN",
        "outputId": "2a7259a1-5005-40cb-9966-199aad30f625"
      },
      "execution_count": null,
      "outputs": [
        {
          "output_type": "stream",
          "name": "stdout",
          "text": [
            "Menghitung Recall Data testing\n",
            "Test set Recall: 1.00\n",
            "Test set Recall: 1.0\n",
            "\n",
            "Menghitung Recall Data training\n",
            "Train set Recall: 1.00\n",
            "Train set Recall: 1.0\n"
          ]
        }
      ]
    },
    {
      "cell_type": "markdown",
      "source": [
        "## F1 score\n",
        "Rata-rata Harmonic dari Precision dan Recall.  \n",
        "![alt text](https://images.deepai.org/user-content/9954225913-thumb-4901.svg)"
      ],
      "metadata": {
        "id": "YvGY-x-o_yBi"
      }
    },
    {
      "cell_type": "markdown",
      "source": [
        "**Perhitungan dengan Result**"
      ],
      "metadata": {
        "id": "OqA65pqqDQGS"
      }
    },
    {
      "cell_type": "code",
      "source": [
        "metric = \"F1 of Testing Data\"\n",
        "results[metric] = 2 / (1 / results[\"PPV of Testing data\"] + 1 / results[\"TPR of Testing Data\"])\n",
        "print(f\"{metric} is {results[metric]: .3f}\")\n",
        "\n",
        "print(\"\")\n",
        "\n",
        "metric = \"F1 of Training Data\"\n",
        "results[metric] = 2 / (1 / results[\"PPV of Training data\"] + 1 / results[\"TPR of Training Data\"])\n",
        "print(f\"{metric} is {results[metric]: .3f}\")"
      ],
      "metadata": {
        "colab": {
          "base_uri": "https://localhost:8080/"
        },
        "outputId": "4a3b01d0-7850-4b65-b6e7-0a6fa4df151b",
        "id": "NnG4SZ90DQGT"
      },
      "execution_count": null,
      "outputs": [
        {
          "output_type": "stream",
          "name": "stdout",
          "text": [
            "F1 of Testing Data is  1.000\n",
            "\n",
            "F1 of Training Data is  1.000\n"
          ]
        }
      ]
    },
    {
      "cell_type": "markdown",
      "source": [
        "**Perhitungan dengan Library Matrics fungsi `precision_score`** "
      ],
      "metadata": {
        "id": "Ndo_wE2XDQGT"
      }
    },
    {
      "cell_type": "code",
      "source": [
        "#  menghitung set F1-Score\n",
        "print(\"Menghitung F1-Score Data testing\")\n",
        "pcs_dtest = f1_score(y_test, y_pred_test, average='weighted', zero_division=0)\n",
        "print(\"Test set F1-Score: {:.2f}\".format(pcs_dtest))\n",
        "print(f\"Test set F1-Score: {pcs_dtest}\")\n",
        "\n",
        "print(\"\")\n",
        "\n",
        "print(\"Menghitung F1-Score Data training\")\n",
        "pcs_dtrain = f1_score(y_train, y_pred_train, average='weighted', zero_division=0)\n",
        "print(\"Train set F1-Score: {:.2f}\".format(pcs_dtrain))\n",
        "print(f\"Train set F1-Score: {pcs_dtrain}\")"
      ],
      "metadata": {
        "colab": {
          "base_uri": "https://localhost:8080/"
        },
        "id": "1fYRXD-WRXeY",
        "outputId": "3bb29667-0e5d-4c9d-e002-01e45163bf8d"
      },
      "execution_count": null,
      "outputs": [
        {
          "output_type": "stream",
          "name": "stdout",
          "text": [
            "Menghitung F1-Score Data testing\n",
            "Test set F1-Score: 1.00\n",
            "Test set F1-Score: 1.0\n",
            "\n",
            "Menghitung F1-Score Data training\n",
            "Train set F1-Score: 1.00\n",
            "Train set F1-Score: 1.0\n"
          ]
        }
      ]
    },
    {
      "cell_type": "markdown",
      "source": [
        "## Precision, Recall, F1-Score, Support setiap kategori clustering "
      ],
      "metadata": {
        "id": "kMcMR_1sseEv"
      }
    },
    {
      "cell_type": "code",
      "source": [
        "from sklearn.metrics import classification_report\n",
        "\n",
        "print(classification_report(y_test, y_pred_test,\n",
        "      target_names=['Positif', 'Netral', 'Negatif'], zero_division=0))"
      ],
      "metadata": {
        "colab": {
          "base_uri": "https://localhost:8080/"
        },
        "id": "B2pDOpptGi8t",
        "outputId": "86a3aed1-9ffc-458a-8045-eb8cf8f06c04"
      },
      "execution_count": null,
      "outputs": [
        {
          "output_type": "stream",
          "name": "stdout",
          "text": [
            "              precision    recall  f1-score   support\n",
            "\n",
            "     Positif       1.00      1.00      1.00      1507\n",
            "      Netral       1.00      1.00      1.00      2925\n",
            "     Negatif       1.00      1.00      1.00      3568\n",
            "\n",
            "    accuracy                           1.00      8000\n",
            "   macro avg       1.00      1.00      1.00      8000\n",
            "weighted avg       1.00      1.00      1.00      8000\n",
            "\n"
          ]
        }
      ]
    },
    {
      "cell_type": "markdown",
      "source": [
        "## ROC curve (Receiver Operating Characteristic curve)\n",
        "Kurva karakteristik operasi penerima, seperti **ROC curve**, adalah plot grafis yang menggambarkan kemampuan diagnostik sistem pengklasifikasi biner karena ambang batas diskriminasinya bervariasi.  \n",
        " ROC curve dibuat dengan memplot **True Positive Rate (TPR)** berlawanan **False Positive Rate (FPR)** dengan berbagai variasi setting pada threshold.    \n"
      ],
      "metadata": {
        "id": "zugsp8uLwZ4h"
      }
    },
    {
      "cell_type": "code",
      "source": [
        "plt.subplots(1, figsize=(10,10))\n",
        "plt.title('Receiver Operating Characteristic (ROC) Evaluation Metrics - Data Testing')\n",
        "plt.plot(y_test, y_pred_test)\n",
        "plt.plot([0, 1], ls=\"--\", lw=2,color='red')\n",
        "plt.plot([0, 0], [1, 0] , lw=3, color='purple'), plt.plot([1, 1] , lw=3, color='purple')\n",
        "plt.ylabel('True Positive Rate')\n",
        "plt.xlabel('False Positive Rate')\n",
        "plt.show()"
      ],
      "metadata": {
        "id": "xlSJI3bus-CV",
        "colab": {
          "base_uri": "https://localhost:8080/",
          "height": 621
        },
        "outputId": "e456ac6c-5d02-4b9e-f2de-fa7667e6c383"
      },
      "execution_count": null,
      "outputs": [
        {
          "output_type": "display_data",
          "data": {
            "text/plain": [
              "<Figure size 720x720 with 1 Axes>"
            ],
            "image/png": "[encoded data removed]"
          },
          "metadata": {
            "needs_background": "light"
          }
        }
      ]
    },
    {
      "cell_type": "code",
      "source": [
        "plt.subplots(1, figsize=(10,10))\n",
        "plt.title('Receiver Operating Characteristic (ROC) Evaluation Metrics - Data Training')\n",
        "plt.plot(y_train, y_pred_train)\n",
        "plt.plot([0, 1], ls=\"--\", lw=2,color='red')\n",
        "plt.plot([0, 0], [1, 0] , lw=3, color='purple'), plt.plot([1, 1] , lw=3, color='purple')\n",
        "plt.ylabel('True Positive Rate')\n",
        "plt.xlabel('False Positive Rate')\n",
        "plt.show()"
      ],
      "metadata": {
        "colab": {
          "base_uri": "https://localhost:8080/",
          "height": 621
        },
        "id": "tz1w800uKCzQ",
        "outputId": "5430fd78-011b-4167-a1d3-b0139232fbef"
      },
      "execution_count": null,
      "outputs": [
        {
          "output_type": "display_data",
          "data": {
            "text/plain": [
              "<Figure size 720x720 with 1 Axes>"
            ],
            "image/png": "[encoded data removed]"
          },
          "metadata": {
            "needs_background": "light"
          }
        }
      ]
    }
  ]
}